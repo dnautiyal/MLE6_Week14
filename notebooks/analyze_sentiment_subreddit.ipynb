{
  "cells": [
    {
      "cell_type": "markdown",
      "metadata": {
        "id": "-zEhmL9rDA7A"
      },
      "source": [
        "<p align = \"center\" draggable=”false” ><img src=\"https://user-images.githubusercontent.com/37101144/161836199-fdb0219d-0361-4988-bf26-48b0fad160a3.png\" \n",
        "     width=\"200px\"\n",
        "     height=\"auto\"/>\n",
        "</p>"
      ]
    },
    {
      "cell_type": "markdown",
      "metadata": {
        "id": "3v98DUJvDA7K"
      },
      "source": [
        "# Reddit and HuggingFace Starter Kit"
      ]
    },
    {
      "cell_type": "markdown",
      "metadata": {
        "id": "0VhaENOpDA7L"
      },
      "source": [
        "In this live coding session, we leverage the Python Reddit API Wrapper (`PRAW`) to retrieve data from subreddits on [Reddit](https://www.reddit.com), and perform sentiment analysis using [`pipelines`](https://huggingface.co/docs/transformers/main_classes/pipelines) from [HuggingFace ( 🤗 the GitHub of Machine Learning )](https://techcrunch.com/2022/05/09/hugging-face-reaches-2-billion-valuation-to-build-the-github-of-machine-learning/), powered by [transformer](https://arxiv.org/pdf/1706.03762.pdf)."
      ]
    },
    {
      "cell_type": "markdown",
      "metadata": {
        "id": "t7K0um39DA7M"
      },
      "source": [
        "## Objectives"
      ]
    },
    {
      "cell_type": "markdown",
      "metadata": {
        "id": "1ADQB6z3DA7N"
      },
      "source": [
        "At the end of the session, you will "
      ]
    },
    {
      "cell_type": "markdown",
      "metadata": {
        "id": "3PA56E03DA7O"
      },
      "source": [
        "- know how to work with APIs\n",
        "- feel more comfortable navigating thru documentation, even inspecting the source code\n",
        "- understand what a `pipeline` object is in HuggingFace\n",
        "- perform sentiment analysis using `pipeline`\n",
        "- run a python script in command line and get the results"
      ]
    },
    {
      "cell_type": "markdown",
      "metadata": {
        "heading_collapsed": true,
        "id": "TdGvCp48DA7P"
      },
      "source": [
        "## How to Submit"
      ]
    },
    {
      "cell_type": "markdown",
      "metadata": {
        "hidden": true,
        "id": "c4EpAou9DA7R"
      },
      "source": [
        "- At the end of each task, commit* the work into your own remote repo\n",
        "- After completing all three tasks, make sure to push the notebook containing all code blocks and output cells to your remote repo\n",
        "- Submit the link to the notebook in Canvas"
      ]
    },
    {
      "cell_type": "markdown",
      "metadata": {
        "hidden": true,
        "id": "VFb_BRd3DA7T"
      },
      "source": [
        "\\***NEVER** commit a notebook displaying errors unless it is instructed otherwise. However, commit often; recall git ABC = **A**lways **B**e **C**ommitting."
      ]
    },
    {
      "cell_type": "markdown",
      "metadata": {
        "id": "uuaW8hl2DA7U"
      },
      "source": [
        "## Tasks"
      ]
    },
    {
      "cell_type": "markdown",
      "metadata": {
        "heading_collapsed": true,
        "id": "wqfVblqjDA7W"
      },
      "source": [
        "### Task I: Instantiate a Reddit API Object"
      ]
    },
    {
      "cell_type": "markdown",
      "metadata": {
        "hidden": true,
        "id": "-E65HDkxDA7X"
      },
      "source": [
        "The first task is to instantiate a Reddit API object using [PRAW](https://praw.readthedocs.io/en/stable/), through which you will retrieve data. PRAW is a wrapper for [Reddit API](https://www.reddit.com/dev/api) that makes interacting with the Reddit API easier unless you are already an expert of [`requests`](https://docs.python-requests.org/en/latest/)."
      ]
    },
    {
      "cell_type": "markdown",
      "metadata": {
        "hidden": true,
        "id": "_sC-QDBgDA7X"
      },
      "source": [
        "#### 0.  Get updates from `FourthBrain/MLE-7`"
      ]
    },
    {
      "cell_type": "markdown",
      "metadata": {
        "hidden": true,
        "id": "n47Xypf3DA7Y"
      },
      "source": [
        "Under your forked local repo, **fetch** and download new updates from repo `FourthBrain/MLE-7` locally so you can start development. \n",
        "    \n",
        "<details>\n",
        "<summary>If you haven't added `FourthBrain/MLE-7` as a remote repo, click here for instructions:</summary>   \n",
        "You fork repo `FourthBrain/MLE-7` to `yourhandle/MLE-7`, clone it locally, and now you are under directory `MLE-7`. By default, you will see one server name `origin` pointing to your repo:  \n",
        "    \n",
        "```\n",
        "$git remote -v \n",
        "origin  git@github.com:yourhandle/MLE-7.git (fetch)\n",
        "origin  git@github.com:yourhandle/MLE-7.git (push)\n",
        "```\n",
        "\n",
        "Think of fetch = read and push = write. \n",
        "\n",
        "Now add `FourthBrain/MLE-7` as a remote repo\n",
        "\n",
        "```\n",
        "$git add remote fourthbrain git@github.com:FourthBrain/MLE-7.git\n",
        "$git remote -v\n",
        "fourthbrain\tgit@github.com:FourthBrain/MLE-7.git (fetch)\n",
        "fourthbrain\tgit@github.com:FourthBrain/MLE-7.git (push)\n",
        "origin git@github.com:yourhandle/MLE-7.git (fetch)\n",
        "origin git@github.com:yourhandle/MLE-7.git (push)\n",
        "```\n",
        "\n",
        "then before each session starts, run `git fetch fourthbrain` to get updates (why not `git pull`?).\n",
        "\n",
        "check out [Working with Remotes](https://git-scm.com/book/en/v2/Git-Basics-Working-with-Remotes) for more explanations.\n",
        "</details>"
      ]
    },
    {
      "cell_type": "code",
      "source": [
        "!git add remote fourthbrain git@github.com:FourthBrain/MLE-7.git"
      ],
      "metadata": {
        "colab": {
          "base_uri": "https://localhost:8080/"
        },
        "id": "kCuY49Gwn81g",
        "outputId": "272c197c-31f1-4b02-cbbf-b9c7d9c0e4d0"
      },
      "execution_count": 3,
      "outputs": [
        {
          "output_type": "stream",
          "name": "stdout",
          "text": [
            "fatal: not a git repository (or any of the parent directories): .git\n"
          ]
        }
      ]
    },
    {
      "cell_type": "markdown",
      "metadata": {
        "hidden": true,
        "id": "IQW8f5D6DA7a"
      },
      "source": [
        "#### 1. Install packages"
      ]
    },
    {
      "cell_type": "markdown",
      "metadata": {
        "hidden": true,
        "id": "a1OdZipiDA7a"
      },
      "source": [
        "```\n",
        "conda activate {your_virtual_environment_name}\n",
        "pip install -U transformers praw torch numpy pandas\n",
        "```"
      ]
    },
    {
      "cell_type": "code",
      "source": [
        "!pip install -U transformers praw torch numpy pandas"
      ],
      "metadata": {
        "colab": {
          "base_uri": "https://localhost:8080/"
        },
        "id": "RlJv6m-CoWx1",
        "outputId": "7993e0e7-0031-412f-dbed-3dc0aee52e57"
      },
      "execution_count": 1,
      "outputs": [
        {
          "output_type": "stream",
          "name": "stdout",
          "text": [
            "Requirement already satisfied: transformers in /usr/local/lib/python3.7/dist-packages (4.19.2)\n",
            "Requirement already satisfied: praw in /usr/local/lib/python3.7/dist-packages (7.6.0)\n",
            "Requirement already satisfied: torch in /usr/local/lib/python3.7/dist-packages (1.11.0+cu113)\n",
            "Requirement already satisfied: numpy in /usr/local/lib/python3.7/dist-packages (1.21.6)\n",
            "Requirement already satisfied: pandas in /usr/local/lib/python3.7/dist-packages (1.3.5)\n",
            "Requirement already satisfied: tokenizers!=0.11.3,<0.13,>=0.11.1 in /usr/local/lib/python3.7/dist-packages (from transformers) (0.12.1)\n",
            "Requirement already satisfied: filelock in /usr/local/lib/python3.7/dist-packages (from transformers) (3.7.0)\n",
            "Requirement already satisfied: tqdm>=4.27 in /usr/local/lib/python3.7/dist-packages (from transformers) (4.64.0)\n",
            "Requirement already satisfied: importlib-metadata in /usr/local/lib/python3.7/dist-packages (from transformers) (4.11.3)\n",
            "Requirement already satisfied: pyyaml>=5.1 in /usr/local/lib/python3.7/dist-packages (from transformers) (6.0)\n",
            "Requirement already satisfied: huggingface-hub<1.0,>=0.1.0 in /usr/local/lib/python3.7/dist-packages (from transformers) (0.6.0)\n",
            "Requirement already satisfied: packaging>=20.0 in /usr/local/lib/python3.7/dist-packages (from transformers) (21.3)\n",
            "Requirement already satisfied: regex!=2019.12.17 in /usr/local/lib/python3.7/dist-packages (from transformers) (2019.12.20)\n",
            "Requirement already satisfied: requests in /usr/local/lib/python3.7/dist-packages (from transformers) (2.23.0)\n",
            "Requirement already satisfied: typing-extensions>=3.7.4.3 in /usr/local/lib/python3.7/dist-packages (from huggingface-hub<1.0,>=0.1.0->transformers) (4.2.0)\n",
            "Requirement already satisfied: pyparsing!=3.0.5,>=2.0.2 in /usr/local/lib/python3.7/dist-packages (from packaging>=20.0->transformers) (3.0.9)\n",
            "Requirement already satisfied: update-checker>=0.18 in /usr/local/lib/python3.7/dist-packages (from praw) (0.18.0)\n",
            "Requirement already satisfied: prawcore<3,>=2.1 in /usr/local/lib/python3.7/dist-packages (from praw) (2.3.0)\n",
            "Requirement already satisfied: websocket-client>=0.54.0 in /usr/local/lib/python3.7/dist-packages (from praw) (1.3.2)\n",
            "Requirement already satisfied: idna<3,>=2.5 in /usr/local/lib/python3.7/dist-packages (from requests->transformers) (2.10)\n",
            "Requirement already satisfied: urllib3!=1.25.0,!=1.25.1,<1.26,>=1.21.1 in /usr/local/lib/python3.7/dist-packages (from requests->transformers) (1.24.3)\n",
            "Requirement already satisfied: chardet<4,>=3.0.2 in /usr/local/lib/python3.7/dist-packages (from requests->transformers) (3.0.4)\n",
            "Requirement already satisfied: certifi>=2017.4.17 in /usr/local/lib/python3.7/dist-packages (from requests->transformers) (2021.10.8)\n",
            "Requirement already satisfied: pytz>=2017.3 in /usr/local/lib/python3.7/dist-packages (from pandas) (2022.1)\n",
            "Requirement already satisfied: python-dateutil>=2.7.3 in /usr/local/lib/python3.7/dist-packages (from pandas) (2.8.2)\n",
            "Requirement already satisfied: six>=1.5 in /usr/local/lib/python3.7/dist-packages (from python-dateutil>=2.7.3->pandas) (1.15.0)\n",
            "Requirement already satisfied: zipp>=0.5 in /usr/local/lib/python3.7/dist-packages (from importlib-metadata->transformers) (3.8.0)\n"
          ]
        }
      ]
    },
    {
      "cell_type": "markdown",
      "metadata": {
        "hidden": true,
        "id": "x6NEgkDLDA7b"
      },
      "source": [
        "####  2. Create a new app on Reddit "
      ]
    },
    {
      "cell_type": "markdown",
      "metadata": {
        "hidden": true,
        "id": "9pbpm6tUDA7b"
      },
      "source": [
        "Create a new app on Reddit and save secret tokens; refer to [post in medium](https://towardsdatascience.com/how-to-use-the-reddit-api-in-python-5e05ddfd1e5c) for more details."
      ]
    },
    {
      "cell_type": "markdown",
      "metadata": {
        "hidden": true,
        "id": "-iXYRjFoDA7c"
      },
      "source": [
        "- Create a Reddit account if you don't have one, log into your account.\n",
        "- To access the API, we need create an app. Slight updates, on the website, you need to navigate to `preference` > `app`, or click [this link](https://www.reddit.com/prefs/apps) and scroll all the way down. \n",
        "- Click to create a new app, fill in the **name**, choose `script`, fill in  **description** and **redirect url** ( The redirect URI is where the user is sent after they've granted OAuth access to your application; more info [here](and details are in [](https://github.com/reddit-archive/reddit/wiki/OAuth2) for our purpose, you can enter some random url, e.g., www.google.com; ) as shown below.\n",
        "    <div>\n",
        "    <img src=\"./img/reddit_create_app.png\" width=\"500\"/>\n",
        "    </div>   \n",
        "- Jolt down `client_id` (left upper corner) and `client_secret` \n",
        "    <div>\n",
        "    <img src=\"./img/reddit_secret_tokens.png\" width=\"300\"/>\n",
        "    </div>\n",
        "\n",
        "- Create `secrets.py` in the same directory with this notebook, fill in `client_id` and `secret_id` obtained from the last step. We will need to import those constants in the next step.\n",
        "    ```\n",
        "    REDDIT_API_CLIENT_ID = {client_id}\n",
        "    REDDIT_API_CLIENT_SECRET = {secret_id}\n",
        "    REDDIT_API_USER_AGENT = {can_be_any_string, e.g., : \"BotBot\"}\n",
        "    ```\n",
        "- Add `secrets.py` to your `.gitignore` file if not already done. NEVER push credentials to a repo, private or public. "
      ]
    },
    {
      "cell_type": "code",
      "source": [
        "%%writefile secrets.py\n",
        "REDDIT_API_CLIENT_ID = \"\"\n",
        "REDDIT_API_CLIENT_SECRET = \t\"\"\n",
        "REDDIT_API_USER_AGENT = \"mlops\""
      ],
      "metadata": {
        "colab": {
          "base_uri": "https://localhost:8080/"
        },
        "id": "adBKzX7q6C_B",
        "outputId": "094a701b-93b7-45f7-f69f-92335b6c2726"
      },
      "execution_count": 30,
      "outputs": [
        {
          "output_type": "stream",
          "name": "stdout",
          "text": [
            "Writing secrets.py\n"
          ]
        }
      ]
    },
    {
      "cell_type": "markdown",
      "metadata": {
        "hidden": true,
        "id": "uZL0rWwdDA7d"
      },
      "source": [
        "#### 3. Instantiate a `Reddit` object"
      ]
    },
    {
      "cell_type": "markdown",
      "metadata": {
        "hidden": true,
        "id": "Pwn9ffe0DA7e"
      },
      "source": [
        "Now you are ready to create a read-only `Reddit` instance. Refer to [documentation](https://praw.readthedocs.io/en/stable/code_overview/reddit_instance.html) when necessary."
      ]
    },
    {
      "cell_type": "code",
      "execution_count": 1,
      "metadata": {
        "hidden": true,
        "id": "FW-eYDZ7DA7f"
      },
      "outputs": [],
      "source": [
        "import praw\n",
        "import secrets\n",
        "\n",
        "# Create a Reddit object which allows us to interact with the Reddit API\n",
        "reddit = praw.Reddit(\n",
        "    client_id=\"\",\n",
        "    client_secret=\"\",\n",
        "    # password=\"PASSWORD\",\n",
        "    user_agent=\"mlops\",\n",
        "    # username=\"bot\",\n",
        ")"
      ]
    },
    {
      "cell_type": "code",
      "execution_count": 2,
      "metadata": {
        "hidden": true,
        "id": "8VpTcfCtDA7h",
        "colab": {
          "base_uri": "https://localhost:8080/"
        },
        "outputId": "e21a508b-a7a6-4b95-93e5-646adb9341ad"
      },
      "outputs": [
        {
          "output_type": "stream",
          "name": "stdout",
          "text": [
            "<praw.reddit.Reddit object at 0x7f8ae980ed50>\n"
          ]
        }
      ],
      "source": [
        "print(reddit) "
      ]
    },
    {
      "cell_type": "markdown",
      "metadata": {
        "id": "YEbDWk9nDA7i"
      },
      "source": [
        "<details>\n",
        "<summary>Expected output:</summary>   \n",
        "\n",
        "```<praw.reddit.Reddit object at 0x10f8a0ac0>```\n",
        "</details>"
      ]
    },
    {
      "cell_type": "markdown",
      "metadata": {
        "hidden": true,
        "id": "qqS7wxRTDA7i"
      },
      "source": [
        "#### 4. Instantiate a `subreddit` object"
      ]
    },
    {
      "cell_type": "markdown",
      "metadata": {
        "hidden": true,
        "id": "I_zJC3FTDA7i"
      },
      "source": [
        "Lastly, create a `subreddit` object for your favorite subreddit and inspect the object. The expected output you will see ar from `r/machinelearning` unless otherwise specified."
      ]
    },
    {
      "cell_type": "code",
      "execution_count": 3,
      "metadata": {
        "hidden": true,
        "id": "TiNyh8UDDA7j"
      },
      "outputs": [],
      "source": [
        "subreddit = reddit.subreddit(\"machinelearning\")"
      ]
    },
    {
      "cell_type": "markdown",
      "metadata": {
        "hidden": true,
        "id": "gGgWomn_DA7j"
      },
      "source": [
        "What is the display name of the subreddit?"
      ]
    },
    {
      "cell_type": "code",
      "execution_count": 4,
      "metadata": {
        "hidden": true,
        "id": "184svFIwDA7k",
        "colab": {
          "base_uri": "https://localhost:8080/"
        },
        "outputId": "ad0644db-99b4-42ec-baed-a1fffc258eb8"
      },
      "outputs": [
        {
          "output_type": "stream",
          "name": "stdout",
          "text": [
            "machinelearning\n"
          ]
        }
      ],
      "source": [
        "# YOUR CODE HERE\n",
        "print(subreddit.display_name)"
      ]
    },
    {
      "cell_type": "markdown",
      "metadata": {
        "id": "uWxzzDJRDA7k"
      },
      "source": [
        "<details>\n",
        "<summary>Expected output:</summary>   \n",
        "\n",
        "    machinelearning\n",
        "</details>"
      ]
    },
    {
      "cell_type": "markdown",
      "metadata": {
        "hidden": true,
        "id": "ubFePeIODA7k"
      },
      "source": [
        "How about its title, is it different from the display name?"
      ]
    },
    {
      "cell_type": "code",
      "execution_count": 5,
      "metadata": {
        "hidden": true,
        "id": "inHLfVCzDA7l",
        "colab": {
          "base_uri": "https://localhost:8080/"
        },
        "outputId": "02e530c6-c384-42d8-b522-465d616e4dad"
      },
      "outputs": [
        {
          "output_type": "stream",
          "name": "stderr",
          "text": [
            "It appears that you are using PRAW in an asynchronous environment.\n",
            "It is strongly recommended to use Async PRAW: https://asyncpraw.readthedocs.io.\n",
            "See https://praw.readthedocs.io/en/latest/getting_started/multiple_instances.html#discord-bots-and-asynchronous-environments for more info.\n",
            "\n"
          ]
        },
        {
          "output_type": "stream",
          "name": "stdout",
          "text": [
            "Machine Learning\n"
          ]
        }
      ],
      "source": [
        "# YOUR CODE HERE\n",
        "print(subreddit.title)"
      ]
    },
    {
      "cell_type": "markdown",
      "metadata": {
        "id": "sFAC6BLoDA7l"
      },
      "source": [
        "<details>\n",
        "<summary>Expected output:</summary>   \n",
        "\n",
        "    Machine Learning\n",
        "</details>"
      ]
    },
    {
      "cell_type": "markdown",
      "metadata": {
        "hidden": true,
        "id": "2hdgEpBlDA7l"
      },
      "source": [
        "Print out the description of the subreddit:"
      ]
    },
    {
      "cell_type": "code",
      "execution_count": 6,
      "metadata": {
        "hidden": true,
        "scrolled": false,
        "id": "yQLM1CCJDA7m",
        "colab": {
          "base_uri": "https://localhost:8080/"
        },
        "outputId": "3a5fb661-7832-46df-e992-760794171e7c"
      },
      "outputs": [
        {
          "output_type": "stream",
          "name": "stdout",
          "text": [
            "**[Rules For Posts](https://www.reddit.com/r/MachineLearning/about/rules/)**\n",
            "--------\n",
            "+[Research](https://www.reddit.com/r/MachineLearning/search?sort=new&restrict_sr=on&q=flair%3AResearch)\n",
            "--------\n",
            "+[Discussion](https://www.reddit.com/r/MachineLearning/search?sort=new&restrict_sr=on&q=flair%3ADiscussion)\n",
            "--------\n",
            "+[Project](https://www.reddit.com/r/MachineLearning/search?sort=new&restrict_sr=on&q=flair%3AProject)\n",
            "--------\n",
            "+[News](https://www.reddit.com/r/MachineLearning/search?sort=new&restrict_sr=on&q=flair%3ANews)\n",
            "--------\n",
            "***[@slashML on Twitter](https://twitter.com/slashML)***\n",
            "--------\n",
            "***[Chat with us on Slack](https://join.slack.com/t/rml-talk/shared_invite/enQtNjkyMzI3NjA2NTY2LWY0ZmRjZjNhYjI5NzYwM2Y0YzZhZWNiODQ3ZGFjYmI2NTU3YjE1ZDU5MzM2ZTQ4ZGJmOTFmNWVkMzFiMzVhYjg)***\n",
            "--------\n",
            "**Beginners:**\n",
            "--------\n",
            "Please have a look at [our FAQ and Link-Collection](http://www.reddit.com/r/MachineLearning/wiki/index)\n",
            "\n",
            "[Metacademy](http://www.metacademy.org) is a great resource which compiles lesson plans on popular machine learning topics.\n",
            "\n",
            "For Beginner questions please try /r/LearnMachineLearning , /r/MLQuestions or http://stackoverflow.com/\n",
            "\n",
            "For career related questions, visit /r/cscareerquestions/\n",
            "\n",
            "--------\n",
            "\n",
            "[Advanced Courses (2016)](https://www.reddit.com/r/MachineLearning/comments/51qhc8/phdlevel_courses?st=isz2lqdk&sh=56c58cd6)\n",
            "\n",
            "[Advanced Courses (2020)](https://www.reddit.com/r/MachineLearning/comments/fdw0ax/d_advanced_courses_update/)\n",
            "\n",
            "--------\n",
            "**AMAs:**\n",
            "\n",
            "[Pluribus Poker AI Team 7/19/2019](https://www.reddit.com/r/MachineLearning/comments/ceece3/ama_we_are_noam_brown_and_tuomas_sandholm/)\n",
            "\n",
            "[DeepMind AlphaStar team (1/24//2019)](https://www.reddit.com/r/MachineLearning/comments/ajgzoc/we_are_oriol_vinyals_and_david_silver_from/)\n",
            "\n",
            "[Libratus Poker AI Team (12/18/2017)]\n",
            "(https://www.reddit.com/r/MachineLearning/comments/7jn12v/ama_we_are_noam_brown_and_professor_tuomas/)\n",
            "\n",
            "[DeepMind AlphaGo Team (10/19/2017)](https://www.reddit.com/r/MachineLearning/comments/76xjb5/ama_we_are_david_silver_and_julian_schrittwieser/)\n",
            "\n",
            "[Google Brain Team (9/17/2017)](https://www.reddit.com/r/MachineLearning/comments/6z51xb/we_are_the_google_brain_team_wed_love_to_answer/)\n",
            "\n",
            "[Google Brain Team (8/11/2016)]\n",
            "(https://www.reddit.com/r/MachineLearning/comments/4w6tsv/ama_we_are_the_google_brain_team_wed_love_to/)\n",
            "\n",
            "[The MalariaSpot Team (2/6/2016)](https://www.reddit.com/r/MachineLearning/comments/4m7ci1/ama_the_malariaspot_team/)\n",
            "\n",
            "[OpenAI Research Team (1/9/2016)](http://www.reddit.com/r/MachineLearning/comments/404r9m/ama_the_openai_research_team/)\n",
            "\n",
            "[Nando de Freitas (12/26/2015)](http://www.reddit.com/r/MachineLearning/comments/3y4zai/ama_nando_de_freitas/)\n",
            "\n",
            "[Andrew Ng and Adam Coates (4/15/2015)](http://www.reddit.com/r/MachineLearning/comments/32ihpe/ama_andrew_ng_and_adam_coates/)\n",
            "\n",
            "[Jürgen Schmidhuber (3/4/2015)](http://www.reddit.com/r/MachineLearning/comments/2xcyrl/i_am_j%C3%BCrgen_schmidhuber_ama/)\n",
            "\n",
            "[Geoffrey Hinton (11/10/2014)]\n",
            "(http://www.reddit.com/r/MachineLearning/comments/2lmo0l/ama_geoffrey_hinton/)\n",
            "\n",
            "[Michael Jordan (9/10/2014)](http://www.reddit.com/r/MachineLearning/comments/2fxi6v/ama_michael_i_jordan/)\n",
            "\n",
            "[Yann LeCun (5/15/2014)](http://www.reddit.com/r/MachineLearning/comments/25lnbt/ama_yann_lecun/)\n",
            "\n",
            "[Yoshua Bengio (2/27/2014)](http://www.reddit.com/r/MachineLearning/comments/1ysry1/ama_yoshua_bengio/)\n",
            "\n",
            "--------\n",
            "Related Subreddit :\n",
            "\n",
            "* [LearnMachineLearning](http://www.reddit.com/r/LearnMachineLearning)\n",
            "\n",
            "* [Statistics](http://www.reddit.com/r/statistics)\n",
            "\n",
            "* [Computer Vision](http://www.reddit.com/r/computervision)\n",
            "\n",
            "* [Compressive Sensing](http://www.reddit.com/r/CompressiveSensing/)\n",
            "\n",
            "* [NLP] (http://www.reddit.com/r/LanguageTechnology)\n",
            "\n",
            "* [ML Questions] (http://www.reddit.com/r/MLQuestions)\n",
            "\n",
            "* /r/MLjobs and /r/BigDataJobs\n",
            "\n",
            "* /r/datacleaning\n",
            "\n",
            "* /r/DataScience\n",
            "\n",
            "* /r/scientificresearch\n",
            "\n",
            "* /r/artificial\n"
          ]
        }
      ],
      "source": [
        "print(subreddit.description)"
      ]
    },
    {
      "cell_type": "markdown",
      "metadata": {
        "id": "8lQ8rU91DA7m"
      },
      "source": [
        "<details>\n",
        "<summary>Expected output:</summary>\n",
        "\n",
        "    **[Rules For Posts](https://www.reddit.com/r/MachineLearning/about/rules/)**\n",
        "    --------\n",
        "    +[Research](https://www.reddit.com/r/MachineLearning/search?sort=new&restrict_sr=on&q=flair%3AResearch)\n",
        "    --------\n",
        "    +[Discussion](https://www.reddit.com/r/MachineLearning/search?sort=new&restrict_sr=on&q=flair%3ADiscussion)\n",
        "    --------\n",
        "    +[Project](https://www.reddit.com/r/MachineLearning/search?sort=new&restrict_sr=on&q=flair%3AProject)\n",
        "    --------\n",
        "    +[News](https://www.reddit.com/r/MachineLearning/search?sort=new&restrict\n",
        "</details>"
      ]
    },
    {
      "cell_type": "markdown",
      "metadata": {
        "heading_collapsed": true,
        "id": "1IYZHH7QDA7n"
      },
      "source": [
        "### Task II: Parse comments"
      ]
    },
    {
      "cell_type": "markdown",
      "metadata": {
        "heading_collapsed": true,
        "hidden": true,
        "id": "SCPoFVDhDA7n"
      },
      "source": [
        "#### 1. Top Posts of All Time"
      ]
    },
    {
      "cell_type": "markdown",
      "metadata": {
        "hidden": true,
        "id": "fLkpj1FxDA7n"
      },
      "source": [
        "Find titles of top 10 posts of **all time** from your favorite subreddit. Refer to [Obtain Submission Instances from a Subreddit Section](https://praw.readthedocs.io/en/stable/getting_started/quick_start.html)) if necessary. Verify if the titles match what you read on Reddit."
      ]
    },
    {
      "cell_type": "code",
      "execution_count": 7,
      "metadata": {
        "hidden": true,
        "id": "BPfPBrGdDA7o"
      },
      "outputs": [],
      "source": [
        "# try run this line, what do you see? press q once you are done\n",
        "?subreddit.top "
      ]
    },
    {
      "cell_type": "code",
      "execution_count": 8,
      "metadata": {
        "hidden": true,
        "id": "T-7CHVnkDA7o",
        "colab": {
          "base_uri": "https://localhost:8080/"
        },
        "outputId": "af38eb33-5fd8-4202-fca3-12ecd8724cd6"
      },
      "outputs": [
        {
          "output_type": "stream",
          "name": "stderr",
          "text": [
            "It appears that you are using PRAW in an asynchronous environment.\n",
            "It is strongly recommended to use Async PRAW: https://asyncpraw.readthedocs.io.\n",
            "See https://praw.readthedocs.io/en/latest/getting_started/multiple_instances.html#discord-bots-and-asynchronous-environments for more info.\n",
            "\n"
          ]
        },
        {
          "output_type": "stream",
          "name": "stdout",
          "text": [
            "Take your time, you got this\n",
            "My parents (late 70s) got me a ps5 controller for Christmas. I do not own a playstation 5...\n",
            "I got off the horse by accident right before a cutscene in red dead\n",
            "boy gamer\n",
            "Minesweeper 99 x 99, 1500 mines. Took me about 2.5 hours to finish, nerve-wracking. No one might care, but just wanted to share this.\n",
            "The perfect cosplay doesn’t ex...\n",
            "'Play until we lose'\n",
            "Can we please boycott Star Wars battlefront 2\n",
            "As a teen in the 80s, my conservative God-fearing family wouldn't let me own Dungeons & Dragons. Thirty years later, my son and I are starting our D & D journey.\n",
            "EA removed the refund button on their webpage, and now you have to call them and wait to get a refund.\n"
          ]
        }
      ],
      "source": [
        "# YOUR CODE HERE\n",
        "for submission in reddit.subreddit(\"gaming\").top(time_filter=\"all\", limit=10):\n",
        "  print(submission.title)"
      ]
    },
    {
      "cell_type": "markdown",
      "metadata": {
        "hidden": true,
        "id": "Nxo4ZYfwDA7p"
      },
      "source": [
        "<details> <summary>Expected output:</summary>\n",
        "\n",
        "    [Project] From books to presentations in 10s with AR + ML\n",
        "    [D] A Demo from 1993 of 32-year-old Yann LeCun showing off the World's first Convolutional Network for Text Recognition\n",
        "    [R] First Order Motion Model applied to animate paintings\n",
        "    [N] AI can turn old photos into moving Images / Link is given in the comments - You can also turn your old photo like this\n",
        "    [D] This AI reveals how much time politicians stare at their phone at work\n",
        "    [D] Types of Machine Learning Papers\n",
        "    [D] The machine learning community has a toxicity problem\n",
        "    [Project] NEW PYTHON PACKAGE: Sync GAN Art to Music with \"Lucid Sonic Dreams\"! (Link in Comments)\n",
        "    [P] Using oil portraits and First Order Model to bring the paintings back to life\n",
        "    [D] Convolution Neural Network Visualization - Made with Unity 3D and lots of Code / source - stefsietz (IG)    \n",
        "</details>"
      ]
    },
    {
      "cell_type": "markdown",
      "metadata": {
        "heading_collapsed": true,
        "hidden": true,
        "id": "G5EszBPQDA7q"
      },
      "source": [
        "#### 2. Top 10 Posts of This Week"
      ]
    },
    {
      "cell_type": "markdown",
      "metadata": {
        "hidden": true,
        "id": "EIxEmXu2DA7q"
      },
      "source": [
        "What are the titles of the top 10 posts of **this week** from your favorite subreddit?"
      ]
    },
    {
      "cell_type": "code",
      "execution_count": 9,
      "metadata": {
        "hidden": true,
        "id": "IvsPhhvGDA7q",
        "colab": {
          "base_uri": "https://localhost:8080/"
        },
        "outputId": "dee18aa1-6c1e-434c-c452-3f96d2d695eb"
      },
      "outputs": [
        {
          "output_type": "stream",
          "name": "stderr",
          "text": [
            "It appears that you are using PRAW in an asynchronous environment.\n",
            "It is strongly recommended to use Async PRAW: https://asyncpraw.readthedocs.io.\n",
            "See https://praw.readthedocs.io/en/latest/getting_started/multiple_instances.html#discord-bots-and-asynchronous-environments for more info.\n",
            "\n"
          ]
        },
        {
          "output_type": "stream",
          "name": "stdout",
          "text": [
            "Sakuna: Of Rice and Ruin has the best use of \"dual-wielding\"\n",
            "I won the Trolli Xbox Series S\n",
            "“There’s no such thing as a Nintendo,” reads print advertisement from 1990.\n",
            "That moment in call of duty\n",
            "Now this is a good loading screen tip\n",
            "Mortal Kombat Terminator cool af\n",
            "Don't Get Cocky, Kid\n",
            "The time Microsoft promoted Halo 2 on condoms.\n",
            "When I talk about \"breath taking graphic\", this is what I'm talking about.\n",
            "1 Million Zombies Vs. 20,000 Soldiers [Ultimate Epic Battle Simulator 2]\n"
          ]
        }
      ],
      "source": [
        "# YOUR CODE HERE\n",
        "for submission in reddit.subreddit(\"gaming\").top(time_filter=\"week\", limit=10):\n",
        "  print(submission.title)"
      ]
    },
    {
      "cell_type": "markdown",
      "metadata": {
        "hidden": true,
        "id": "nHwqYBhlDA7r"
      },
      "source": [
        "<details><summary>Expected output:</summary>\n",
        "\n",
        "    [N] Ian Goodfellow, Apple’s director of machine learning, is leaving the company due to its return to work policy. In a note to staff, he said “I believe strongly that more flexibility would have been the best policy for my team.” He was likely the company’s most cited ML expert.\n",
        "    [R][P] Thin-Plate Spline Motion Model for Image Animation + Gradio Web Demo\n",
        "    [P] I’ve been trying to understand the limits of some of the available machine learning models out there. Built an app that lets you try a mix of CLIP from Open AI + Apple’s version of MobileNet, and more directly on your phone's camera roll.\n",
        "    [R] Meta is releasing a 175B parameter language model\n",
        "    [N] Hugging Face raised $100M at $2B to double down on community, open-source & ethics\n",
        "    [P] T-SNE to view and order your Spotify tracks\n",
        "    [D] : HELP Finding a Book - A book written for Google Engineers about foundational Math to support ML\n",
        "    [R] Scaled up CLIP-like model (~2B) shows 86% Zero-shot on Imagenet\n",
        "    [D] Do you use NLTK or Spacy for text preprocessing?\n",
        "    [D] Democratizing Diffusion Models - LDMs: High-Resolution Image Synthesis with Latent Diffusion Models, a 5-minute paper summary by Casual GAN Papers\n",
        "</details>"
      ]
    },
    {
      "cell_type": "markdown",
      "metadata": {
        "heading_collapsed": true,
        "hidden": true,
        "id": "S80H3nWTDA7r"
      },
      "source": [
        "#### 3. Comment Code"
      ]
    },
    {
      "cell_type": "markdown",
      "metadata": {
        "hidden": true,
        "id": "mSK4H8apDA7s"
      },
      "source": [
        "Add comments to the code block below to describe what each line of the code does (Refer to [Obtain Comment Instances Section](https://praw.readthedocs.io/en/stable/getting_started/quick_start.html) when necessary). The code is adapted from [this tutorial](https://praw.readthedocs.io/en/stable/tutorials/comments.html)\n",
        "\n",
        "The purpose is \n",
        "1. to understand what the code is doing \n",
        "2. start to comment your code whenever it is not self-explantory if you have not (others will thank you, YOU will thank you later 😊) "
      ]
    },
    {
      "cell_type": "code",
      "execution_count": 10,
      "metadata": {
        "hidden": true,
        "scrolled": true,
        "id": "YePeKatjDA7s",
        "colab": {
          "base_uri": "https://localhost:8080/"
        },
        "outputId": "67972ab4-26e0-4638-d41d-3a4f94d1721e"
      },
      "outputs": [
        {
          "output_type": "stream",
          "name": "stderr",
          "text": [
            "It appears that you are using PRAW in an asynchronous environment.\n",
            "It is strongly recommended to use Async PRAW: https://asyncpraw.readthedocs.io.\n",
            "See https://praw.readthedocs.io/en/latest/getting_started/multiple_instances.html#discord-bots-and-asynchronous-environments for more info.\n",
            "\n",
            "It appears that you are using PRAW in an asynchronous environment.\n",
            "It is strongly recommended to use Async PRAW: https://asyncpraw.readthedocs.io.\n",
            "See https://praw.readthedocs.io/en/latest/getting_started/multiple_instances.html#discord-bots-and-asynchronous-environments for more info.\n",
            "\n",
            "It appears that you are using PRAW in an asynchronous environment.\n",
            "It is strongly recommended to use Async PRAW: https://asyncpraw.readthedocs.io.\n",
            "See https://praw.readthedocs.io/en/latest/getting_started/multiple_instances.html#discord-bots-and-asynchronous-environments for more info.\n",
            "\n",
            "It appears that you are using PRAW in an asynchronous environment.\n",
            "It is strongly recommended to use Async PRAW: https://asyncpraw.readthedocs.io.\n",
            "See https://praw.readthedocs.io/en/latest/getting_started/multiple_instances.html#discord-bots-and-asynchronous-environments for more info.\n",
            "\n",
            "It appears that you are using PRAW in an asynchronous environment.\n",
            "It is strongly recommended to use Async PRAW: https://asyncpraw.readthedocs.io.\n",
            "See https://praw.readthedocs.io/en/latest/getting_started/multiple_instances.html#discord-bots-and-asynchronous-environments for more info.\n",
            "\n",
            "It appears that you are using PRAW in an asynchronous environment.\n",
            "It is strongly recommended to use Async PRAW: https://asyncpraw.readthedocs.io.\n",
            "See https://praw.readthedocs.io/en/latest/getting_started/multiple_instances.html#discord-bots-and-asynchronous-environments for more info.\n",
            "\n",
            "It appears that you are using PRAW in an asynchronous environment.\n",
            "It is strongly recommended to use Async PRAW: https://asyncpraw.readthedocs.io.\n",
            "See https://praw.readthedocs.io/en/latest/getting_started/multiple_instances.html#discord-bots-and-asynchronous-environments for more info.\n",
            "\n",
            "It appears that you are using PRAW in an asynchronous environment.\n",
            "It is strongly recommended to use Async PRAW: https://asyncpraw.readthedocs.io.\n",
            "See https://praw.readthedocs.io/en/latest/getting_started/multiple_instances.html#discord-bots-and-asynchronous-environments for more info.\n",
            "\n",
            "It appears that you are using PRAW in an asynchronous environment.\n",
            "It is strongly recommended to use Async PRAW: https://asyncpraw.readthedocs.io.\n",
            "See https://praw.readthedocs.io/en/latest/getting_started/multiple_instances.html#discord-bots-and-asynchronous-environments for more info.\n",
            "\n",
            "It appears that you are using PRAW in an asynchronous environment.\n",
            "It is strongly recommended to use Async PRAW: https://asyncpraw.readthedocs.io.\n",
            "See https://praw.readthedocs.io/en/latest/getting_started/multiple_instances.html#discord-bots-and-asynchronous-environments for more info.\n",
            "\n",
            "It appears that you are using PRAW in an asynchronous environment.\n",
            "It is strongly recommended to use Async PRAW: https://asyncpraw.readthedocs.io.\n",
            "See https://praw.readthedocs.io/en/latest/getting_started/multiple_instances.html#discord-bots-and-asynchronous-environments for more info.\n",
            "\n"
          ]
        },
        {
          "output_type": "stream",
          "name": "stdout",
          "text": [
            "CPU times: user 480 ms, sys: 25.4 ms, total: 506 ms\n",
            "Wall time: 10.2 s\n"
          ]
        }
      ],
      "source": [
        "%%time\n",
        "from praw.models import MoreComments\n",
        "\n",
        "# YOUR COMMENT HERE\n",
        "top_comments = []\n",
        "\n",
        "# YOUR COMMENT HERE\n",
        "for submission in subreddit.top(limit=10):\n",
        "    # YOUR COMMENT HERE\n",
        "    for top_level_comment in submission.comments:\n",
        "        # YOUR COMMENT HERE\n",
        "        if isinstance(top_level_comment, MoreComments):\n",
        "            continue\n",
        "        # YOUR COMMENT HERE\n",
        "        top_comments.append(top_level_comment.body)"
      ]
    },
    {
      "cell_type": "markdown",
      "metadata": {
        "heading_collapsed": true,
        "hidden": true,
        "id": "kmBGW2TeDA7s"
      },
      "source": [
        "#### 4. Inspect Comments"
      ]
    },
    {
      "cell_type": "markdown",
      "metadata": {
        "hidden": true,
        "id": "y5zvPNaFDA7t"
      },
      "source": [
        "How many comments did you extract from the last step? Examine a few comments. "
      ]
    },
    {
      "cell_type": "code",
      "execution_count": 12,
      "metadata": {
        "hidden": true,
        "id": "2_qUIcDrDA7t",
        "colab": {
          "base_uri": "https://localhost:8080/"
        },
        "outputId": "16e57420-66be-44ec-e1a7-2b22b0fe27ee"
      },
      "outputs": [
        {
          "output_type": "stream",
          "name": "stdout",
          "text": [
            "693\n",
            "Twitter thread: [https://twitter.com/cyrildiagne/status/1259441154606669824](https://twitter.com/cyrildiagne/status/1259441154606669824)\n",
            "\n",
            "Code: [https://github.com/cyrildiagne/ar-cutpaste/tree/clipboard](https://github.com/cyrildiagne/ar-cutpaste/tree/clipboard)\n",
            "\n",
            "Background removal is done with U^(2-Net) (Qin et Al, Pattern Recognition 2020): [https://github.com/NathanUA/U-2-Net](https://github.com/NathanUA/U-2-Net)\n",
            "\n",
            "**/!\\\\ EDIT:** You can now subscribe to a beta program to get early access to the app: [https://arcopypaste.app](https://arcopypaste.app)  !\n",
            "Simple yet very useful. Thank you for sharing the code.\n",
            "The future 🤯\n",
            "Ohh the nightmare of making this into a stable product... Enough to drive you mad just thinking about it\n",
            "Almost guaranteed, Apple will copy your idea in 3, 2, 1....\n"
          ]
        }
      ],
      "source": [
        "#YOUR CODE HERE  # the answer may vary 693 for r/machinelearning\n",
        "print(len(top_comments))\n",
        "for i in range(5):\n",
        "  print(top_comments[i])"
      ]
    },
    {
      "cell_type": "code",
      "execution_count": 13,
      "metadata": {
        "hidden": true,
        "id": "4t6kw-2zDA7u",
        "colab": {
          "base_uri": "https://localhost:8080/"
        },
        "outputId": "738e5137-7bc2-4383-da0a-2dcc7625049b"
      },
      "outputs": [
        {
          "output_type": "execute_result",
          "data": {
            "text/plain": [
              "['Thank God that the scientific method can be applied to computer science. 🤪',\n",
              " 'Which type do you like the most?',\n",
              " \"The fact that they also had to know the location of the numbers and that the algorithm was robust to scale changes is impressive for 1993\\n\\nIt's not like they just solved MNIST in 1993, it's one step above that\"]"
            ]
          },
          "metadata": {},
          "execution_count": 13
        }
      ],
      "source": [
        "import random\n",
        "\n",
        "[random.choice(top_comments) for i in range(3)]"
      ]
    },
    {
      "cell_type": "markdown",
      "metadata": {
        "id": "ir3UxS2EDA7u"
      },
      "source": [
        "<details> <summary>Some of the comments from `r/machinelearning` subreddit are:</summary>\n",
        "\n",
        "    ['Awesome visualisation',\n",
        "    'Similar to a stack or connected neurons.',\n",
        "    'Will this Turing pass the Turing Test?']\n",
        "</details>"
      ]
    },
    {
      "cell_type": "markdown",
      "metadata": {
        "hidden": true,
        "id": "i6sjfprfDA7v"
      },
      "source": [
        "#### 5. Extract Top Level Comment from Subreddit `TSLA`."
      ]
    },
    {
      "cell_type": "markdown",
      "metadata": {
        "hidden": true,
        "id": "9E7n2VEjDA7v"
      },
      "source": [
        "Write your code to extract top level comments from the top 10 topics of a time period, e.g., year, from subreddit `TSLA` and store them in a list `top_comments_tsla`.  "
      ]
    },
    {
      "cell_type": "code",
      "execution_count": 19,
      "metadata": {
        "hidden": true,
        "id": "Xoz6ovQCDA7v",
        "colab": {
          "base_uri": "https://localhost:8080/"
        },
        "outputId": "101fe30a-9632-458f-e92a-faa5b981910a"
      },
      "outputs": [
        {
          "output_type": "stream",
          "name": "stderr",
          "text": [
            "It appears that you are using PRAW in an asynchronous environment.\n",
            "It is strongly recommended to use Async PRAW: https://asyncpraw.readthedocs.io.\n",
            "See https://praw.readthedocs.io/en/latest/getting_started/multiple_instances.html#discord-bots-and-asynchronous-environments for more info.\n",
            "\n",
            "It appears that you are using PRAW in an asynchronous environment.\n",
            "It is strongly recommended to use Async PRAW: https://asyncpraw.readthedocs.io.\n",
            "See https://praw.readthedocs.io/en/latest/getting_started/multiple_instances.html#discord-bots-and-asynchronous-environments for more info.\n",
            "\n",
            "It appears that you are using PRAW in an asynchronous environment.\n",
            "It is strongly recommended to use Async PRAW: https://asyncpraw.readthedocs.io.\n",
            "See https://praw.readthedocs.io/en/latest/getting_started/multiple_instances.html#discord-bots-and-asynchronous-environments for more info.\n",
            "\n",
            "It appears that you are using PRAW in an asynchronous environment.\n",
            "It is strongly recommended to use Async PRAW: https://asyncpraw.readthedocs.io.\n",
            "See https://praw.readthedocs.io/en/latest/getting_started/multiple_instances.html#discord-bots-and-asynchronous-environments for more info.\n",
            "\n",
            "It appears that you are using PRAW in an asynchronous environment.\n",
            "It is strongly recommended to use Async PRAW: https://asyncpraw.readthedocs.io.\n",
            "See https://praw.readthedocs.io/en/latest/getting_started/multiple_instances.html#discord-bots-and-asynchronous-environments for more info.\n",
            "\n",
            "It appears that you are using PRAW in an asynchronous environment.\n",
            "It is strongly recommended to use Async PRAW: https://asyncpraw.readthedocs.io.\n",
            "See https://praw.readthedocs.io/en/latest/getting_started/multiple_instances.html#discord-bots-and-asynchronous-environments for more info.\n",
            "\n",
            "It appears that you are using PRAW in an asynchronous environment.\n",
            "It is strongly recommended to use Async PRAW: https://asyncpraw.readthedocs.io.\n",
            "See https://praw.readthedocs.io/en/latest/getting_started/multiple_instances.html#discord-bots-and-asynchronous-environments for more info.\n",
            "\n",
            "It appears that you are using PRAW in an asynchronous environment.\n",
            "It is strongly recommended to use Async PRAW: https://asyncpraw.readthedocs.io.\n",
            "See https://praw.readthedocs.io/en/latest/getting_started/multiple_instances.html#discord-bots-and-asynchronous-environments for more info.\n",
            "\n",
            "It appears that you are using PRAW in an asynchronous environment.\n",
            "It is strongly recommended to use Async PRAW: https://asyncpraw.readthedocs.io.\n",
            "See https://praw.readthedocs.io/en/latest/getting_started/multiple_instances.html#discord-bots-and-asynchronous-environments for more info.\n",
            "\n",
            "It appears that you are using PRAW in an asynchronous environment.\n",
            "It is strongly recommended to use Async PRAW: https://asyncpraw.readthedocs.io.\n",
            "See https://praw.readthedocs.io/en/latest/getting_started/multiple_instances.html#discord-bots-and-asynchronous-environments for more info.\n",
            "\n",
            "It appears that you are using PRAW in an asynchronous environment.\n",
            "It is strongly recommended to use Async PRAW: https://asyncpraw.readthedocs.io.\n",
            "See https://praw.readthedocs.io/en/latest/getting_started/multiple_instances.html#discord-bots-and-asynchronous-environments for more info.\n",
            "\n"
          ]
        }
      ],
      "source": [
        "# YOUR CODE HERE\n",
        "top_comments_tsla = []\n",
        "for submission in reddit.subreddit(\"TSLA\").top(time_filter=\"year\", limit=10):\n",
        "  for top_level_comment in submission.comments:\n",
        "    if isinstance(top_level_comment, MoreComments):\n",
        "      continue\n",
        "    top_comments_tsla.append(top_level_comment.body)"
      ]
    },
    {
      "cell_type": "code",
      "execution_count": 20,
      "metadata": {
        "hidden": true,
        "id": "2YBAa6_tDA7w",
        "colab": {
          "base_uri": "https://localhost:8080/"
        },
        "outputId": "4f34334a-1174-47de-e942-94fda7193284"
      },
      "outputs": [
        {
          "output_type": "execute_result",
          "data": {
            "text/plain": [
              "173"
            ]
          },
          "metadata": {},
          "execution_count": 20
        }
      ],
      "source": [
        "len(top_comments_tsla) # Expected: 174 for r/machinelearning"
      ]
    },
    {
      "cell_type": "code",
      "execution_count": 21,
      "metadata": {
        "hidden": true,
        "scrolled": true,
        "id": "q-eMn6ZiDA7w",
        "colab": {
          "base_uri": "https://localhost:8080/"
        },
        "outputId": "7cefca1a-ae7c-4488-be9f-5cd2c986d361"
      },
      "outputs": [
        {
          "output_type": "execute_result",
          "data": {
            "text/plain": [
              "['Don’t ever go all in on any investment. Just when you think you have investing figured out, it will remind you who is in charge and why so many lost money investing. Diversification is the key to wealth and investing. I wouldn’t invest all my eggs in any one basket.',\n",
              " 'Tesla will half its price by year end no need to split',\n",
              " 'You are crazy. You are buying at the very top and it may take 3-5 years to get back here']"
            ]
          },
          "metadata": {},
          "execution_count": 21
        }
      ],
      "source": [
        "[random.choice(top_comments_tsla) for i in range(3)]"
      ]
    },
    {
      "cell_type": "markdown",
      "metadata": {
        "id": "RAYTB7cvDA7w"
      },
      "source": [
        "<details>\n",
        "<summary>Some of the comments from `r/TSLA` subreddit:</summary>\n",
        "\n",
        "    ['I bought puts',\n",
        "    '100%',\n",
        "    'Yes. And I’m bag holding 1200 calls for Friday and am close to throwing myself out the window']\n",
        "</details>"
      ]
    },
    {
      "cell_type": "markdown",
      "metadata": {
        "heading_collapsed": true,
        "id": "CmmrKgkRDA7x"
      },
      "source": [
        "### Task III: Sentiment Analysis"
      ]
    },
    {
      "cell_type": "markdown",
      "metadata": {
        "hidden": true,
        "id": "6zgtna7fDA7x"
      },
      "source": [
        "Let us analyze the sentiment of comments scraped from `r/TSLA` using a pre-trained HuggingFace model to make the inference. Take a [Quick tour](https://huggingface.co/docs/transformers/quicktour). "
      ]
    },
    {
      "cell_type": "markdown",
      "metadata": {
        "hidden": true,
        "id": "ZyVcVqbpDA7x"
      },
      "source": [
        "#### 1. Import `pipeline`"
      ]
    },
    {
      "cell_type": "code",
      "execution_count": 22,
      "metadata": {
        "hidden": true,
        "id": "FCtzyS03DA7y"
      },
      "outputs": [],
      "source": [
        "from transformers import pipeline # YOUR CODE HERE"
      ]
    },
    {
      "cell_type": "markdown",
      "metadata": {
        "hidden": true,
        "id": "olZskA95DA7y"
      },
      "source": [
        "#### 2. Create a Pipeline to Perform Task \"sentiment-analysis\""
      ]
    },
    {
      "cell_type": "code",
      "execution_count": 24,
      "metadata": {
        "hidden": true,
        "id": "owbmul3SDA7y",
        "colab": {
          "base_uri": "https://localhost:8080/",
          "height": 182,
          "referenced_widgets": [
            "11b4d50558834e8687313e68e51f8af6",
            "aa47fbee2bce406f9b308cfa6d5a49f6",
            "14e96bebb3184fc991069cf7fb9784e4",
            "b817df6f88694feb827b1f8ca8b3331b",
            "09fabed440fd4a6ab6a6eea16fd175e0",
            "8f99fbef69344488bc3fd2618d17ba37",
            "611e465b7c5d4117bdbca0db886d00d3",
            "599b861f49be4892bc1e13cce41eee12",
            "4715bb593c7e4c84bcf9d96836a5fa1a",
            "7c1ee190064d430b9bcdc9bf116a295a",
            "12c635b15d5443c586e1b158892f90a6",
            "36703bff1e9643a5a78b611d97e3c469",
            "fc0245f549be4332a3f2281ef1c3c0bc",
            "99201726ee7e48ba8895402a85658c95",
            "f448c6e272cb449495d86bfa1f880e46",
            "edc63a338363405a905333cfcf3b2dd7",
            "d5bc96beda6e410da6f439da4df97040",
            "b9250b61f35a450088c02d701251e02a",
            "622bfb32582e470c879e9ecdaf57a46e",
            "4867d859273c479fa3c4c3e1c91e4d56",
            "8b1cfe689fad4fa49aab628c3d264c93",
            "13b3ab2c83fa499c858c161e1cc9b3ce",
            "3de3753a6f044b3ea1fbf1acf9406ffa",
            "ded68699e85346b2bec306b0d72139da",
            "3a9556c7a66440a091056aa2d1452cb7",
            "84b38e0ec6ad428b8e5173f869cf9a75",
            "d9274d46ddce4ae894653b7bc4824491",
            "55b17aeb7c6f488890d501ac39f6816a",
            "8ef0eedbf4d64622963e95def4f40d4f",
            "d4a510bbbe3d4106a86241fc5cf3a1f4",
            "858f730be95d45dd948ec4de8f4318b2",
            "e0c322087cf74dc1b8a0c47334e37f94",
            "d557de7d98334de3aff0bf2cfe3f2718",
            "38caedc1b70a4d67a78c8c8833179133",
            "789cdddde1c149659feb0eb652650000",
            "e3bf069f7a6c4cbeac2b5c1a845a9196",
            "4c00531cc9f74a7281cf25e98c094ca1",
            "253fa2ae092a4fcf8a6702eca9e4195d",
            "ebe17a0ec86a4a009bd6a80dba9077dd",
            "eb1ed309eb4b4b728639d4c79912308d",
            "b4931afb7f8c4deca5e42fab98663faf",
            "ef8cafb242fa4888b8d57c5453a40d8a",
            "ab58da85eefa447aac69909209f82d50",
            "18799e50521e4b51b105bf283c6f0a7f"
          ]
        },
        "outputId": "4907d48f-364c-4e2c-d26a-cabb473faddf"
      },
      "outputs": [
        {
          "output_type": "stream",
          "name": "stderr",
          "text": [
            "No model was supplied, defaulted to distilbert-base-uncased-finetuned-sst-2-english (https://huggingface.co/distilbert-base-uncased-finetuned-sst-2-english)\n"
          ]
        },
        {
          "output_type": "display_data",
          "data": {
            "text/plain": [
              "Downloading:   0%|          | 0.00/629 [00:00<?, ?B/s]"
            ],
            "application/vnd.jupyter.widget-view+json": {
              "version_major": 2,
              "version_minor": 0,
              "model_id": "11b4d50558834e8687313e68e51f8af6"
            }
          },
          "metadata": {}
        },
        {
          "output_type": "display_data",
          "data": {
            "text/plain": [
              "Downloading:   0%|          | 0.00/255M [00:00<?, ?B/s]"
            ],
            "application/vnd.jupyter.widget-view+json": {
              "version_major": 2,
              "version_minor": 0,
              "model_id": "36703bff1e9643a5a78b611d97e3c469"
            }
          },
          "metadata": {}
        },
        {
          "output_type": "display_data",
          "data": {
            "text/plain": [
              "Downloading:   0%|          | 0.00/48.0 [00:00<?, ?B/s]"
            ],
            "application/vnd.jupyter.widget-view+json": {
              "version_major": 2,
              "version_minor": 0,
              "model_id": "3de3753a6f044b3ea1fbf1acf9406ffa"
            }
          },
          "metadata": {}
        },
        {
          "output_type": "display_data",
          "data": {
            "text/plain": [
              "Downloading:   0%|          | 0.00/226k [00:00<?, ?B/s]"
            ],
            "application/vnd.jupyter.widget-view+json": {
              "version_major": 2,
              "version_minor": 0,
              "model_id": "38caedc1b70a4d67a78c8c8833179133"
            }
          },
          "metadata": {}
        }
      ],
      "source": [
        "sentiment_model = pipeline(\"sentiment-analysis\") # YOUR CODE HERE"
      ]
    },
    {
      "cell_type": "markdown",
      "metadata": {
        "hidden": true,
        "id": "l41mgDJBDA7z"
      },
      "source": [
        "#### 3. Get one comment from list `top_comments_tsla` from Task II - 5."
      ]
    },
    {
      "cell_type": "code",
      "execution_count": 25,
      "metadata": {
        "hidden": true,
        "id": "dMhLp_xLDA7z"
      },
      "outputs": [],
      "source": [
        "comment = random.choice(top_comments_tsla)"
      ]
    },
    {
      "cell_type": "code",
      "execution_count": 26,
      "metadata": {
        "hidden": true,
        "id": "L8NZpe0XDA7z",
        "colab": {
          "base_uri": "https://localhost:8080/",
          "height": 35
        },
        "outputId": "fb4552f5-93d3-4cb6-9120-12548557e7f4"
      },
      "outputs": [
        {
          "output_type": "execute_result",
          "data": {
            "text/plain": [
              "'75 Shares baby \\n\\n90% of my portfolio'"
            ],
            "application/vnd.google.colaboratory.intrinsic+json": {
              "type": "string"
            }
          },
          "metadata": {},
          "execution_count": 26
        }
      ],
      "source": [
        "comment"
      ]
    },
    {
      "cell_type": "markdown",
      "metadata": {
        "id": "aOAyDimfDA70"
      },
      "source": [
        "The example comment is: `'Bury Burry!!!!!'`. Print out what you get. For reproducibility, use the same comment in the next step; consider setting a seed."
      ]
    },
    {
      "cell_type": "markdown",
      "metadata": {
        "hidden": true,
        "id": "Pqi2jNPUDA70"
      },
      "source": [
        "#### 4. Make Inference!"
      ]
    },
    {
      "cell_type": "code",
      "execution_count": 27,
      "metadata": {
        "hidden": true,
        "id": "a3mJBPF7DA70",
        "colab": {
          "base_uri": "https://localhost:8080/"
        },
        "outputId": "406a1e59-06fb-4d68-b8bc-15a1e70b0ed8"
      },
      "outputs": [
        {
          "output_type": "execute_result",
          "data": {
            "text/plain": [
              "[{'label': 'POSITIVE', 'score': 0.9601867198944092}]"
            ]
          },
          "metadata": {},
          "execution_count": 27
        }
      ],
      "source": [
        "sentiment = sentiment_model(comment)# YOUR CODE HERE\n",
        "sentiment"
      ]
    },
    {
      "cell_type": "markdown",
      "metadata": {
        "hidden": true,
        "id": "VlwP5CD2DA71"
      },
      "source": [
        "What is the type of the output `sentiment`?"
      ]
    },
    {
      "cell_type": "markdown",
      "metadata": {
        "hidden": true,
        "id": "4Pe2_U0iDA71"
      },
      "source": [
        "```\n",
        "[{'label': 'POSITIVE', 'score': 0.9601867198944092}]\n",
        "```"
      ]
    },
    {
      "cell_type": "code",
      "execution_count": 29,
      "metadata": {
        "hidden": true,
        "scrolled": true,
        "id": "c7DLq3kADA71",
        "colab": {
          "base_uri": "https://localhost:8080/"
        },
        "outputId": "e4e0d0a5-7d15-40a9-e814-cefa666a6305"
      },
      "outputs": [
        {
          "output_type": "stream",
          "name": "stdout",
          "text": [
            "The comment: 75 Shares baby \n",
            "\n",
            "90% of my portfolio\n",
            "Predicted Label is POSITIVE and the score is 0.960\n"
          ]
        }
      ],
      "source": [
        "print(f'The comment: {comment}')\n",
        "print(f'Predicted Label is {sentiment[0][\"label\"]} and the score is {sentiment[0][\"score\"]:.3f}')"
      ]
    },
    {
      "cell_type": "markdown",
      "metadata": {
        "id": "Kh3fI0UPDA71"
      },
      "source": [
        "For the example comment, the output is:\n",
        "\n",
        "    The comment: Bury Burry!!!!!\n",
        "    Predicted Label is NEGATIVE and the score is 0.989"
      ]
    },
    {
      "cell_type": "markdown",
      "metadata": {
        "id": "3rx1bcnvDA72"
      },
      "source": [
        "### Task IV: Put All Together"
      ]
    },
    {
      "cell_type": "markdown",
      "metadata": {
        "id": "QT9uoX92DA72"
      },
      "source": [
        "Let's pull all the piece together, create a simple script that does \n",
        "\n",
        "- get the subreddit\n",
        "- get comments from the top posts for given subreddit\n",
        "- run sentiment analysis "
      ]
    },
    {
      "cell_type": "markdown",
      "metadata": {
        "id": "j2cGt5DJDA73"
      },
      "source": [
        "#### Complete the Script"
      ]
    },
    {
      "cell_type": "markdown",
      "metadata": {
        "id": "L_jMg-9LDA73"
      },
      "source": [
        "Once you complete the code, running the following block writes the code into a new Python script and saves it as `top_tlsa_comment_sentiment.py` under the same directory with the notebook. "
      ]
    },
    {
      "cell_type": "code",
      "execution_count": 31,
      "metadata": {
        "code_folding": [],
        "id": "Poe1-ViWDA73",
        "colab": {
          "base_uri": "https://localhost:8080/"
        },
        "outputId": "ae2c9fde-c14c-4a4e-e75c-d2044f2fa5bc"
      },
      "outputs": [
        {
          "output_type": "stream",
          "name": "stdout",
          "text": [
            "Writing top_tlsa_comment_sentiment.py\n"
          ]
        }
      ],
      "source": [
        "%%writefile top_tlsa_comment_sentiment.py\n",
        "\n",
        "import secrets\n",
        "import random\n",
        "\n",
        "from typing import Dict, List\n",
        "\n",
        "from praw import Reddit\n",
        "from praw.models.reddit.subreddit import Subreddit\n",
        "from praw.models import MoreComments\n",
        "\n",
        "from transformers import pipeline\n",
        "\n",
        "\n",
        "def get_subreddit(display_name:str) -> Subreddit:\n",
        "    \"\"\"Get subreddit object from display name\n",
        "\n",
        "    Args:\n",
        "        display_name (str): [description]\n",
        "\n",
        "    Returns:\n",
        "        Subreddit: [description]\n",
        "    \"\"\"\n",
        "    reddit = Reddit(\n",
        "        client_id=secrets.REDDIT_API_CLIENT_ID,        \n",
        "        client_secret=secrets.REDDIT_API_CLIENT_SECRET,\n",
        "        user_agent=secrets.REDDIT_API_USER_AGENT\n",
        "        )\n",
        "    \n",
        "    subreddit =reddit.subreddit(display_name)# YOUR CODE HERE\n",
        "    return subreddit\n",
        "\n",
        "def get_comments(subreddit:Subreddit, limit:int=3) -> List[str]:\n",
        "    \"\"\" Get comments from subreddit\n",
        "\n",
        "    Args:\n",
        "        subreddit (Subreddit): [description]\n",
        "        limit (int, optional): [description]. Defaults to 3.\n",
        "\n",
        "    Returns:\n",
        "        List[str]: List of comments\n",
        "    \"\"\"\n",
        "    top_comments = []\n",
        "    for submission in subreddit.top(limit=limit):\n",
        "        for top_level_comment in submission.comments:\n",
        "            if isinstance(top_level_comment, MoreComments):\n",
        "                continue\n",
        "            top_comments.append(top_level_comment.body)\n",
        "    return top_comments\n",
        "\n",
        "def run_sentiment_analysis(comment:str) -> Dict:\n",
        "    \"\"\"Run sentiment analysis on comment using default distilbert model\n",
        "    \n",
        "    Args:\n",
        "        comment (str): [description]\n",
        "        \n",
        "    Returns:\n",
        "        str: Sentiment analysis result\n",
        "    \"\"\"\n",
        "    sentiment_model = pipeline(\"sentiment-analysis\")# YOUR CODE HERE\n",
        "    sentiment = sentiment_model(comment)\n",
        "    return sentiment[0]\n",
        "\n",
        "\n",
        "if __name__ == '__main__':\n",
        "    submission = get_subreddit(\"TSLA\") # YOUR CODE HERE\n",
        "    comments = get_comments(submission)\n",
        "    comment = random.choice(comments)# YOUR CODE HERE\n",
        "    sentiment = run_sentiment_analysis(comment)\n",
        "    \n",
        "    print(f'The comment: {comment}')\n",
        "    print(f'Predicted Label is {sentiment[\"label\"]} and the score is {sentiment[\"score\"]:.3f}')"
      ]
    },
    {
      "cell_type": "markdown",
      "metadata": {
        "id": "mr0ssj2eDA74"
      },
      "source": [
        "Run the following block to see the output."
      ]
    },
    {
      "cell_type": "code",
      "execution_count": 32,
      "metadata": {
        "id": "6dGj5ufdDA74",
        "colab": {
          "base_uri": "https://localhost:8080/"
        },
        "outputId": "1f7a4746-7881-4e74-d42e-195770f245d4"
      },
      "outputs": [
        {
          "output_type": "stream",
          "name": "stdout",
          "text": [
            "No model was supplied, defaulted to distilbert-base-uncased-finetuned-sst-2-english (https://huggingface.co/distilbert-base-uncased-finetuned-sst-2-english)\n",
            "2022-05-20 00:44:32.661786: E tensorflow/stream_executor/cuda/cuda_driver.cc:271] failed call to cuInit: CUDA_ERROR_NO_DEVICE: no CUDA-capable device is detected\n",
            "The comment: So funny! Same thing can't buy anymore dips\n",
            "Predicted Label is POSITIVE and the score is 0.983\n"
          ]
        }
      ],
      "source": [
        "!python top_tlsa_comment_sentiment.py"
      ]
    },
    {
      "cell_type": "markdown",
      "metadata": {
        "id": "aySC-u7PDA75"
      },
      "source": [
        "<details><summary> Expected output:</summary>\n",
        "\n",
        "    No model was supplied, defaulted to distilbert-base-uncased-finetuned-sst-2-english (https://huggingface.co/distilbert-base-uncased-finetuned-sst-2-english)\n",
        "    The comment: When is DOGE flying\n",
        "    Predicted Label is POSITIVE and the score is 0.689\n",
        "</details>"
      ]
    }
  ],
  "metadata": {
    "interpreter": {
      "hash": "70e5a9886b02a227d3c83e17263e3a28d12f842d6950be488144931078452c0e"
    },
    "kernelspec": {
      "display_name": "py39_12",
      "language": "python",
      "name": "py39_12"
    },
    "language_info": {
      "codemirror_mode": {
        "name": "ipython",
        "version": 3
      },
      "file_extension": ".py",
      "mimetype": "text/x-python",
      "name": "python",
      "nbconvert_exporter": "python",
      "pygments_lexer": "ipython3",
      "version": "3.9.12"
    },
    "toc": {
      "base_numbering": 1,
      "nav_menu": {},
      "number_sections": true,
      "sideBar": true,
      "skip_h1_title": false,
      "title_cell": "Table of Contents",
      "title_sidebar": "Contents",
      "toc_cell": false,
      "toc_position": {},
      "toc_section_display": true,
      "toc_window_display": true
    },
    "colab": {
      "name": "analyze_sentiment_subreddit.ipynb",
      "provenance": [],
      "collapsed_sections": []
    },
    "widgets": {
      "application/vnd.jupyter.widget-state+json": {
        "11b4d50558834e8687313e68e51f8af6": {
          "model_module": "@jupyter-widgets/controls",
          "model_name": "HBoxModel",
          "model_module_version": "1.5.0",
          "state": {
            "_dom_classes": [],
            "_model_module": "@jupyter-widgets/controls",
            "_model_module_version": "1.5.0",
            "_model_name": "HBoxModel",
            "_view_count": null,
            "_view_module": "@jupyter-widgets/controls",
            "_view_module_version": "1.5.0",
            "_view_name": "HBoxView",
            "box_style": "",
            "children": [
              "IPY_MODEL_aa47fbee2bce406f9b308cfa6d5a49f6",
              "IPY_MODEL_14e96bebb3184fc991069cf7fb9784e4",
              "IPY_MODEL_b817df6f88694feb827b1f8ca8b3331b"
            ],
            "layout": "IPY_MODEL_09fabed440fd4a6ab6a6eea16fd175e0"
          }
        },
        "aa47fbee2bce406f9b308cfa6d5a49f6": {
          "model_module": "@jupyter-widgets/controls",
          "model_name": "HTMLModel",
          "model_module_version": "1.5.0",
          "state": {
            "_dom_classes": [],
            "_model_module": "@jupyter-widgets/controls",
            "_model_module_version": "1.5.0",
            "_model_name": "HTMLModel",
            "_view_count": null,
            "_view_module": "@jupyter-widgets/controls",
            "_view_module_version": "1.5.0",
            "_view_name": "HTMLView",
            "description": "",
            "description_tooltip": null,
            "layout": "IPY_MODEL_8f99fbef69344488bc3fd2618d17ba37",
            "placeholder": "​",
            "style": "IPY_MODEL_611e465b7c5d4117bdbca0db886d00d3",
            "value": "Downloading: 100%"
          }
        },
        "14e96bebb3184fc991069cf7fb9784e4": {
          "model_module": "@jupyter-widgets/controls",
          "model_name": "FloatProgressModel",
          "model_module_version": "1.5.0",
          "state": {
            "_dom_classes": [],
            "_model_module": "@jupyter-widgets/controls",
            "_model_module_version": "1.5.0",
            "_model_name": "FloatProgressModel",
            "_view_count": null,
            "_view_module": "@jupyter-widgets/controls",
            "_view_module_version": "1.5.0",
            "_view_name": "ProgressView",
            "bar_style": "success",
            "description": "",
            "description_tooltip": null,
            "layout": "IPY_MODEL_599b861f49be4892bc1e13cce41eee12",
            "max": 629,
            "min": 0,
            "orientation": "horizontal",
            "style": "IPY_MODEL_4715bb593c7e4c84bcf9d96836a5fa1a",
            "value": 629
          }
        },
        "b817df6f88694feb827b1f8ca8b3331b": {
          "model_module": "@jupyter-widgets/controls",
          "model_name": "HTMLModel",
          "model_module_version": "1.5.0",
          "state": {
            "_dom_classes": [],
            "_model_module": "@jupyter-widgets/controls",
            "_model_module_version": "1.5.0",
            "_model_name": "HTMLModel",
            "_view_count": null,
            "_view_module": "@jupyter-widgets/controls",
            "_view_module_version": "1.5.0",
            "_view_name": "HTMLView",
            "description": "",
            "description_tooltip": null,
            "layout": "IPY_MODEL_7c1ee190064d430b9bcdc9bf116a295a",
            "placeholder": "​",
            "style": "IPY_MODEL_12c635b15d5443c586e1b158892f90a6",
            "value": " 629/629 [00:00&lt;00:00, 12.0kB/s]"
          }
        },
        "09fabed440fd4a6ab6a6eea16fd175e0": {
          "model_module": "@jupyter-widgets/base",
          "model_name": "LayoutModel",
          "model_module_version": "1.2.0",
          "state": {
            "_model_module": "@jupyter-widgets/base",
            "_model_module_version": "1.2.0",
            "_model_name": "LayoutModel",
            "_view_count": null,
            "_view_module": "@jupyter-widgets/base",
            "_view_module_version": "1.2.0",
            "_view_name": "LayoutView",
            "align_content": null,
            "align_items": null,
            "align_self": null,
            "border": null,
            "bottom": null,
            "display": null,
            "flex": null,
            "flex_flow": null,
            "grid_area": null,
            "grid_auto_columns": null,
            "grid_auto_flow": null,
            "grid_auto_rows": null,
            "grid_column": null,
            "grid_gap": null,
            "grid_row": null,
            "grid_template_areas": null,
            "grid_template_columns": null,
            "grid_template_rows": null,
            "height": null,
            "justify_content": null,
            "justify_items": null,
            "left": null,
            "margin": null,
            "max_height": null,
            "max_width": null,
            "min_height": null,
            "min_width": null,
            "object_fit": null,
            "object_position": null,
            "order": null,
            "overflow": null,
            "overflow_x": null,
            "overflow_y": null,
            "padding": null,
            "right": null,
            "top": null,
            "visibility": null,
            "width": null
          }
        },
        "8f99fbef69344488bc3fd2618d17ba37": {
          "model_module": "@jupyter-widgets/base",
          "model_name": "LayoutModel",
          "model_module_version": "1.2.0",
          "state": {
            "_model_module": "@jupyter-widgets/base",
            "_model_module_version": "1.2.0",
            "_model_name": "LayoutModel",
            "_view_count": null,
            "_view_module": "@jupyter-widgets/base",
            "_view_module_version": "1.2.0",
            "_view_name": "LayoutView",
            "align_content": null,
            "align_items": null,
            "align_self": null,
            "border": null,
            "bottom": null,
            "display": null,
            "flex": null,
            "flex_flow": null,
            "grid_area": null,
            "grid_auto_columns": null,
            "grid_auto_flow": null,
            "grid_auto_rows": null,
            "grid_column": null,
            "grid_gap": null,
            "grid_row": null,
            "grid_template_areas": null,
            "grid_template_columns": null,
            "grid_template_rows": null,
            "height": null,
            "justify_content": null,
            "justify_items": null,
            "left": null,
            "margin": null,
            "max_height": null,
            "max_width": null,
            "min_height": null,
            "min_width": null,
            "object_fit": null,
            "object_position": null,
            "order": null,
            "overflow": null,
            "overflow_x": null,
            "overflow_y": null,
            "padding": null,
            "right": null,
            "top": null,
            "visibility": null,
            "width": null
          }
        },
        "611e465b7c5d4117bdbca0db886d00d3": {
          "model_module": "@jupyter-widgets/controls",
          "model_name": "DescriptionStyleModel",
          "model_module_version": "1.5.0",
          "state": {
            "_model_module": "@jupyter-widgets/controls",
            "_model_module_version": "1.5.0",
            "_model_name": "DescriptionStyleModel",
            "_view_count": null,
            "_view_module": "@jupyter-widgets/base",
            "_view_module_version": "1.2.0",
            "_view_name": "StyleView",
            "description_width": ""
          }
        },
        "599b861f49be4892bc1e13cce41eee12": {
          "model_module": "@jupyter-widgets/base",
          "model_name": "LayoutModel",
          "model_module_version": "1.2.0",
          "state": {
            "_model_module": "@jupyter-widgets/base",
            "_model_module_version": "1.2.0",
            "_model_name": "LayoutModel",
            "_view_count": null,
            "_view_module": "@jupyter-widgets/base",
            "_view_module_version": "1.2.0",
            "_view_name": "LayoutView",
            "align_content": null,
            "align_items": null,
            "align_self": null,
            "border": null,
            "bottom": null,
            "display": null,
            "flex": null,
            "flex_flow": null,
            "grid_area": null,
            "grid_auto_columns": null,
            "grid_auto_flow": null,
            "grid_auto_rows": null,
            "grid_column": null,
            "grid_gap": null,
            "grid_row": null,
            "grid_template_areas": null,
            "grid_template_columns": null,
            "grid_template_rows": null,
            "height": null,
            "justify_content": null,
            "justify_items": null,
            "left": null,
            "margin": null,
            "max_height": null,
            "max_width": null,
            "min_height": null,
            "min_width": null,
            "object_fit": null,
            "object_position": null,
            "order": null,
            "overflow": null,
            "overflow_x": null,
            "overflow_y": null,
            "padding": null,
            "right": null,
            "top": null,
            "visibility": null,
            "width": null
          }
        },
        "4715bb593c7e4c84bcf9d96836a5fa1a": {
          "model_module": "@jupyter-widgets/controls",
          "model_name": "ProgressStyleModel",
          "model_module_version": "1.5.0",
          "state": {
            "_model_module": "@jupyter-widgets/controls",
            "_model_module_version": "1.5.0",
            "_model_name": "ProgressStyleModel",
            "_view_count": null,
            "_view_module": "@jupyter-widgets/base",
            "_view_module_version": "1.2.0",
            "_view_name": "StyleView",
            "bar_color": null,
            "description_width": ""
          }
        },
        "7c1ee190064d430b9bcdc9bf116a295a": {
          "model_module": "@jupyter-widgets/base",
          "model_name": "LayoutModel",
          "model_module_version": "1.2.0",
          "state": {
            "_model_module": "@jupyter-widgets/base",
            "_model_module_version": "1.2.0",
            "_model_name": "LayoutModel",
            "_view_count": null,
            "_view_module": "@jupyter-widgets/base",
            "_view_module_version": "1.2.0",
            "_view_name": "LayoutView",
            "align_content": null,
            "align_items": null,
            "align_self": null,
            "border": null,
            "bottom": null,
            "display": null,
            "flex": null,
            "flex_flow": null,
            "grid_area": null,
            "grid_auto_columns": null,
            "grid_auto_flow": null,
            "grid_auto_rows": null,
            "grid_column": null,
            "grid_gap": null,
            "grid_row": null,
            "grid_template_areas": null,
            "grid_template_columns": null,
            "grid_template_rows": null,
            "height": null,
            "justify_content": null,
            "justify_items": null,
            "left": null,
            "margin": null,
            "max_height": null,
            "max_width": null,
            "min_height": null,
            "min_width": null,
            "object_fit": null,
            "object_position": null,
            "order": null,
            "overflow": null,
            "overflow_x": null,
            "overflow_y": null,
            "padding": null,
            "right": null,
            "top": null,
            "visibility": null,
            "width": null
          }
        },
        "12c635b15d5443c586e1b158892f90a6": {
          "model_module": "@jupyter-widgets/controls",
          "model_name": "DescriptionStyleModel",
          "model_module_version": "1.5.0",
          "state": {
            "_model_module": "@jupyter-widgets/controls",
            "_model_module_version": "1.5.0",
            "_model_name": "DescriptionStyleModel",
            "_view_count": null,
            "_view_module": "@jupyter-widgets/base",
            "_view_module_version": "1.2.0",
            "_view_name": "StyleView",
            "description_width": ""
          }
        },
        "36703bff1e9643a5a78b611d97e3c469": {
          "model_module": "@jupyter-widgets/controls",
          "model_name": "HBoxModel",
          "model_module_version": "1.5.0",
          "state": {
            "_dom_classes": [],
            "_model_module": "@jupyter-widgets/controls",
            "_model_module_version": "1.5.0",
            "_model_name": "HBoxModel",
            "_view_count": null,
            "_view_module": "@jupyter-widgets/controls",
            "_view_module_version": "1.5.0",
            "_view_name": "HBoxView",
            "box_style": "",
            "children": [
              "IPY_MODEL_fc0245f549be4332a3f2281ef1c3c0bc",
              "IPY_MODEL_99201726ee7e48ba8895402a85658c95",
              "IPY_MODEL_f448c6e272cb449495d86bfa1f880e46"
            ],
            "layout": "IPY_MODEL_edc63a338363405a905333cfcf3b2dd7"
          }
        },
        "fc0245f549be4332a3f2281ef1c3c0bc": {
          "model_module": "@jupyter-widgets/controls",
          "model_name": "HTMLModel",
          "model_module_version": "1.5.0",
          "state": {
            "_dom_classes": [],
            "_model_module": "@jupyter-widgets/controls",
            "_model_module_version": "1.5.0",
            "_model_name": "HTMLModel",
            "_view_count": null,
            "_view_module": "@jupyter-widgets/controls",
            "_view_module_version": "1.5.0",
            "_view_name": "HTMLView",
            "description": "",
            "description_tooltip": null,
            "layout": "IPY_MODEL_d5bc96beda6e410da6f439da4df97040",
            "placeholder": "​",
            "style": "IPY_MODEL_b9250b61f35a450088c02d701251e02a",
            "value": "Downloading: 100%"
          }
        },
        "99201726ee7e48ba8895402a85658c95": {
          "model_module": "@jupyter-widgets/controls",
          "model_name": "FloatProgressModel",
          "model_module_version": "1.5.0",
          "state": {
            "_dom_classes": [],
            "_model_module": "@jupyter-widgets/controls",
            "_model_module_version": "1.5.0",
            "_model_name": "FloatProgressModel",
            "_view_count": null,
            "_view_module": "@jupyter-widgets/controls",
            "_view_module_version": "1.5.0",
            "_view_name": "ProgressView",
            "bar_style": "success",
            "description": "",
            "description_tooltip": null,
            "layout": "IPY_MODEL_622bfb32582e470c879e9ecdaf57a46e",
            "max": 267844284,
            "min": 0,
            "orientation": "horizontal",
            "style": "IPY_MODEL_4867d859273c479fa3c4c3e1c91e4d56",
            "value": 267844284
          }
        },
        "f448c6e272cb449495d86bfa1f880e46": {
          "model_module": "@jupyter-widgets/controls",
          "model_name": "HTMLModel",
          "model_module_version": "1.5.0",
          "state": {
            "_dom_classes": [],
            "_model_module": "@jupyter-widgets/controls",
            "_model_module_version": "1.5.0",
            "_model_name": "HTMLModel",
            "_view_count": null,
            "_view_module": "@jupyter-widgets/controls",
            "_view_module_version": "1.5.0",
            "_view_name": "HTMLView",
            "description": "",
            "description_tooltip": null,
            "layout": "IPY_MODEL_8b1cfe689fad4fa49aab628c3d264c93",
            "placeholder": "​",
            "style": "IPY_MODEL_13b3ab2c83fa499c858c161e1cc9b3ce",
            "value": " 255M/255M [00:06&lt;00:00, 43.8MB/s]"
          }
        },
        "edc63a338363405a905333cfcf3b2dd7": {
          "model_module": "@jupyter-widgets/base",
          "model_name": "LayoutModel",
          "model_module_version": "1.2.0",
          "state": {
            "_model_module": "@jupyter-widgets/base",
            "_model_module_version": "1.2.0",
            "_model_name": "LayoutModel",
            "_view_count": null,
            "_view_module": "@jupyter-widgets/base",
            "_view_module_version": "1.2.0",
            "_view_name": "LayoutView",
            "align_content": null,
            "align_items": null,
            "align_self": null,
            "border": null,
            "bottom": null,
            "display": null,
            "flex": null,
            "flex_flow": null,
            "grid_area": null,
            "grid_auto_columns": null,
            "grid_auto_flow": null,
            "grid_auto_rows": null,
            "grid_column": null,
            "grid_gap": null,
            "grid_row": null,
            "grid_template_areas": null,
            "grid_template_columns": null,
            "grid_template_rows": null,
            "height": null,
            "justify_content": null,
            "justify_items": null,
            "left": null,
            "margin": null,
            "max_height": null,
            "max_width": null,
            "min_height": null,
            "min_width": null,
            "object_fit": null,
            "object_position": null,
            "order": null,
            "overflow": null,
            "overflow_x": null,
            "overflow_y": null,
            "padding": null,
            "right": null,
            "top": null,
            "visibility": null,
            "width": null
          }
        },
        "d5bc96beda6e410da6f439da4df97040": {
          "model_module": "@jupyter-widgets/base",
          "model_name": "LayoutModel",
          "model_module_version": "1.2.0",
          "state": {
            "_model_module": "@jupyter-widgets/base",
            "_model_module_version": "1.2.0",
            "_model_name": "LayoutModel",
            "_view_count": null,
            "_view_module": "@jupyter-widgets/base",
            "_view_module_version": "1.2.0",
            "_view_name": "LayoutView",
            "align_content": null,
            "align_items": null,
            "align_self": null,
            "border": null,
            "bottom": null,
            "display": null,
            "flex": null,
            "flex_flow": null,
            "grid_area": null,
            "grid_auto_columns": null,
            "grid_auto_flow": null,
            "grid_auto_rows": null,
            "grid_column": null,
            "grid_gap": null,
            "grid_row": null,
            "grid_template_areas": null,
            "grid_template_columns": null,
            "grid_template_rows": null,
            "height": null,
            "justify_content": null,
            "justify_items": null,
            "left": null,
            "margin": null,
            "max_height": null,
            "max_width": null,
            "min_height": null,
            "min_width": null,
            "object_fit": null,
            "object_position": null,
            "order": null,
            "overflow": null,
            "overflow_x": null,
            "overflow_y": null,
            "padding": null,
            "right": null,
            "top": null,
            "visibility": null,
            "width": null
          }
        },
        "b9250b61f35a450088c02d701251e02a": {
          "model_module": "@jupyter-widgets/controls",
          "model_name": "DescriptionStyleModel",
          "model_module_version": "1.5.0",
          "state": {
            "_model_module": "@jupyter-widgets/controls",
            "_model_module_version": "1.5.0",
            "_model_name": "DescriptionStyleModel",
            "_view_count": null,
            "_view_module": "@jupyter-widgets/base",
            "_view_module_version": "1.2.0",
            "_view_name": "StyleView",
            "description_width": ""
          }
        },
        "622bfb32582e470c879e9ecdaf57a46e": {
          "model_module": "@jupyter-widgets/base",
          "model_name": "LayoutModel",
          "model_module_version": "1.2.0",
          "state": {
            "_model_module": "@jupyter-widgets/base",
            "_model_module_version": "1.2.0",
            "_model_name": "LayoutModel",
            "_view_count": null,
            "_view_module": "@jupyter-widgets/base",
            "_view_module_version": "1.2.0",
            "_view_name": "LayoutView",
            "align_content": null,
            "align_items": null,
            "align_self": null,
            "border": null,
            "bottom": null,
            "display": null,
            "flex": null,
            "flex_flow": null,
            "grid_area": null,
            "grid_auto_columns": null,
            "grid_auto_flow": null,
            "grid_auto_rows": null,
            "grid_column": null,
            "grid_gap": null,
            "grid_row": null,
            "grid_template_areas": null,
            "grid_template_columns": null,
            "grid_template_rows": null,
            "height": null,
            "justify_content": null,
            "justify_items": null,
            "left": null,
            "margin": null,
            "max_height": null,
            "max_width": null,
            "min_height": null,
            "min_width": null,
            "object_fit": null,
            "object_position": null,
            "order": null,
            "overflow": null,
            "overflow_x": null,
            "overflow_y": null,
            "padding": null,
            "right": null,
            "top": null,
            "visibility": null,
            "width": null
          }
        },
        "4867d859273c479fa3c4c3e1c91e4d56": {
          "model_module": "@jupyter-widgets/controls",
          "model_name": "ProgressStyleModel",
          "model_module_version": "1.5.0",
          "state": {
            "_model_module": "@jupyter-widgets/controls",
            "_model_module_version": "1.5.0",
            "_model_name": "ProgressStyleModel",
            "_view_count": null,
            "_view_module": "@jupyter-widgets/base",
            "_view_module_version": "1.2.0",
            "_view_name": "StyleView",
            "bar_color": null,
            "description_width": ""
          }
        },
        "8b1cfe689fad4fa49aab628c3d264c93": {
          "model_module": "@jupyter-widgets/base",
          "model_name": "LayoutModel",
          "model_module_version": "1.2.0",
          "state": {
            "_model_module": "@jupyter-widgets/base",
            "_model_module_version": "1.2.0",
            "_model_name": "LayoutModel",
            "_view_count": null,
            "_view_module": "@jupyter-widgets/base",
            "_view_module_version": "1.2.0",
            "_view_name": "LayoutView",
            "align_content": null,
            "align_items": null,
            "align_self": null,
            "border": null,
            "bottom": null,
            "display": null,
            "flex": null,
            "flex_flow": null,
            "grid_area": null,
            "grid_auto_columns": null,
            "grid_auto_flow": null,
            "grid_auto_rows": null,
            "grid_column": null,
            "grid_gap": null,
            "grid_row": null,
            "grid_template_areas": null,
            "grid_template_columns": null,
            "grid_template_rows": null,
            "height": null,
            "justify_content": null,
            "justify_items": null,
            "left": null,
            "margin": null,
            "max_height": null,
            "max_width": null,
            "min_height": null,
            "min_width": null,
            "object_fit": null,
            "object_position": null,
            "order": null,
            "overflow": null,
            "overflow_x": null,
            "overflow_y": null,
            "padding": null,
            "right": null,
            "top": null,
            "visibility": null,
            "width": null
          }
        },
        "13b3ab2c83fa499c858c161e1cc9b3ce": {
          "model_module": "@jupyter-widgets/controls",
          "model_name": "DescriptionStyleModel",
          "model_module_version": "1.5.0",
          "state": {
            "_model_module": "@jupyter-widgets/controls",
            "_model_module_version": "1.5.0",
            "_model_name": "DescriptionStyleModel",
            "_view_count": null,
            "_view_module": "@jupyter-widgets/base",
            "_view_module_version": "1.2.0",
            "_view_name": "StyleView",
            "description_width": ""
          }
        },
        "3de3753a6f044b3ea1fbf1acf9406ffa": {
          "model_module": "@jupyter-widgets/controls",
          "model_name": "HBoxModel",
          "model_module_version": "1.5.0",
          "state": {
            "_dom_classes": [],
            "_model_module": "@jupyter-widgets/controls",
            "_model_module_version": "1.5.0",
            "_model_name": "HBoxModel",
            "_view_count": null,
            "_view_module": "@jupyter-widgets/controls",
            "_view_module_version": "1.5.0",
            "_view_name": "HBoxView",
            "box_style": "",
            "children": [
              "IPY_MODEL_ded68699e85346b2bec306b0d72139da",
              "IPY_MODEL_3a9556c7a66440a091056aa2d1452cb7",
              "IPY_MODEL_84b38e0ec6ad428b8e5173f869cf9a75"
            ],
            "layout": "IPY_MODEL_d9274d46ddce4ae894653b7bc4824491"
          }
        },
        "ded68699e85346b2bec306b0d72139da": {
          "model_module": "@jupyter-widgets/controls",
          "model_name": "HTMLModel",
          "model_module_version": "1.5.0",
          "state": {
            "_dom_classes": [],
            "_model_module": "@jupyter-widgets/controls",
            "_model_module_version": "1.5.0",
            "_model_name": "HTMLModel",
            "_view_count": null,
            "_view_module": "@jupyter-widgets/controls",
            "_view_module_version": "1.5.0",
            "_view_name": "HTMLView",
            "description": "",
            "description_tooltip": null,
            "layout": "IPY_MODEL_55b17aeb7c6f488890d501ac39f6816a",
            "placeholder": "​",
            "style": "IPY_MODEL_8ef0eedbf4d64622963e95def4f40d4f",
            "value": "Downloading: 100%"
          }
        },
        "3a9556c7a66440a091056aa2d1452cb7": {
          "model_module": "@jupyter-widgets/controls",
          "model_name": "FloatProgressModel",
          "model_module_version": "1.5.0",
          "state": {
            "_dom_classes": [],
            "_model_module": "@jupyter-widgets/controls",
            "_model_module_version": "1.5.0",
            "_model_name": "FloatProgressModel",
            "_view_count": null,
            "_view_module": "@jupyter-widgets/controls",
            "_view_module_version": "1.5.0",
            "_view_name": "ProgressView",
            "bar_style": "success",
            "description": "",
            "description_tooltip": null,
            "layout": "IPY_MODEL_d4a510bbbe3d4106a86241fc5cf3a1f4",
            "max": 48,
            "min": 0,
            "orientation": "horizontal",
            "style": "IPY_MODEL_858f730be95d45dd948ec4de8f4318b2",
            "value": 48
          }
        },
        "84b38e0ec6ad428b8e5173f869cf9a75": {
          "model_module": "@jupyter-widgets/controls",
          "model_name": "HTMLModel",
          "model_module_version": "1.5.0",
          "state": {
            "_dom_classes": [],
            "_model_module": "@jupyter-widgets/controls",
            "_model_module_version": "1.5.0",
            "_model_name": "HTMLModel",
            "_view_count": null,
            "_view_module": "@jupyter-widgets/controls",
            "_view_module_version": "1.5.0",
            "_view_name": "HTMLView",
            "description": "",
            "description_tooltip": null,
            "layout": "IPY_MODEL_e0c322087cf74dc1b8a0c47334e37f94",
            "placeholder": "​",
            "style": "IPY_MODEL_d557de7d98334de3aff0bf2cfe3f2718",
            "value": " 48.0/48.0 [00:00&lt;00:00, 1.36kB/s]"
          }
        },
        "d9274d46ddce4ae894653b7bc4824491": {
          "model_module": "@jupyter-widgets/base",
          "model_name": "LayoutModel",
          "model_module_version": "1.2.0",
          "state": {
            "_model_module": "@jupyter-widgets/base",
            "_model_module_version": "1.2.0",
            "_model_name": "LayoutModel",
            "_view_count": null,
            "_view_module": "@jupyter-widgets/base",
            "_view_module_version": "1.2.0",
            "_view_name": "LayoutView",
            "align_content": null,
            "align_items": null,
            "align_self": null,
            "border": null,
            "bottom": null,
            "display": null,
            "flex": null,
            "flex_flow": null,
            "grid_area": null,
            "grid_auto_columns": null,
            "grid_auto_flow": null,
            "grid_auto_rows": null,
            "grid_column": null,
            "grid_gap": null,
            "grid_row": null,
            "grid_template_areas": null,
            "grid_template_columns": null,
            "grid_template_rows": null,
            "height": null,
            "justify_content": null,
            "justify_items": null,
            "left": null,
            "margin": null,
            "max_height": null,
            "max_width": null,
            "min_height": null,
            "min_width": null,
            "object_fit": null,
            "object_position": null,
            "order": null,
            "overflow": null,
            "overflow_x": null,
            "overflow_y": null,
            "padding": null,
            "right": null,
            "top": null,
            "visibility": null,
            "width": null
          }
        },
        "55b17aeb7c6f488890d501ac39f6816a": {
          "model_module": "@jupyter-widgets/base",
          "model_name": "LayoutModel",
          "model_module_version": "1.2.0",
          "state": {
            "_model_module": "@jupyter-widgets/base",
            "_model_module_version": "1.2.0",
            "_model_name": "LayoutModel",
            "_view_count": null,
            "_view_module": "@jupyter-widgets/base",
            "_view_module_version": "1.2.0",
            "_view_name": "LayoutView",
            "align_content": null,
            "align_items": null,
            "align_self": null,
            "border": null,
            "bottom": null,
            "display": null,
            "flex": null,
            "flex_flow": null,
            "grid_area": null,
            "grid_auto_columns": null,
            "grid_auto_flow": null,
            "grid_auto_rows": null,
            "grid_column": null,
            "grid_gap": null,
            "grid_row": null,
            "grid_template_areas": null,
            "grid_template_columns": null,
            "grid_template_rows": null,
            "height": null,
            "justify_content": null,
            "justify_items": null,
            "left": null,
            "margin": null,
            "max_height": null,
            "max_width": null,
            "min_height": null,
            "min_width": null,
            "object_fit": null,
            "object_position": null,
            "order": null,
            "overflow": null,
            "overflow_x": null,
            "overflow_y": null,
            "padding": null,
            "right": null,
            "top": null,
            "visibility": null,
            "width": null
          }
        },
        "8ef0eedbf4d64622963e95def4f40d4f": {
          "model_module": "@jupyter-widgets/controls",
          "model_name": "DescriptionStyleModel",
          "model_module_version": "1.5.0",
          "state": {
            "_model_module": "@jupyter-widgets/controls",
            "_model_module_version": "1.5.0",
            "_model_name": "DescriptionStyleModel",
            "_view_count": null,
            "_view_module": "@jupyter-widgets/base",
            "_view_module_version": "1.2.0",
            "_view_name": "StyleView",
            "description_width": ""
          }
        },
        "d4a510bbbe3d4106a86241fc5cf3a1f4": {
          "model_module": "@jupyter-widgets/base",
          "model_name": "LayoutModel",
          "model_module_version": "1.2.0",
          "state": {
            "_model_module": "@jupyter-widgets/base",
            "_model_module_version": "1.2.0",
            "_model_name": "LayoutModel",
            "_view_count": null,
            "_view_module": "@jupyter-widgets/base",
            "_view_module_version": "1.2.0",
            "_view_name": "LayoutView",
            "align_content": null,
            "align_items": null,
            "align_self": null,
            "border": null,
            "bottom": null,
            "display": null,
            "flex": null,
            "flex_flow": null,
            "grid_area": null,
            "grid_auto_columns": null,
            "grid_auto_flow": null,
            "grid_auto_rows": null,
            "grid_column": null,
            "grid_gap": null,
            "grid_row": null,
            "grid_template_areas": null,
            "grid_template_columns": null,
            "grid_template_rows": null,
            "height": null,
            "justify_content": null,
            "justify_items": null,
            "left": null,
            "margin": null,
            "max_height": null,
            "max_width": null,
            "min_height": null,
            "min_width": null,
            "object_fit": null,
            "object_position": null,
            "order": null,
            "overflow": null,
            "overflow_x": null,
            "overflow_y": null,
            "padding": null,
            "right": null,
            "top": null,
            "visibility": null,
            "width": null
          }
        },
        "858f730be95d45dd948ec4de8f4318b2": {
          "model_module": "@jupyter-widgets/controls",
          "model_name": "ProgressStyleModel",
          "model_module_version": "1.5.0",
          "state": {
            "_model_module": "@jupyter-widgets/controls",
            "_model_module_version": "1.5.0",
            "_model_name": "ProgressStyleModel",
            "_view_count": null,
            "_view_module": "@jupyter-widgets/base",
            "_view_module_version": "1.2.0",
            "_view_name": "StyleView",
            "bar_color": null,
            "description_width": ""
          }
        },
        "e0c322087cf74dc1b8a0c47334e37f94": {
          "model_module": "@jupyter-widgets/base",
          "model_name": "LayoutModel",
          "model_module_version": "1.2.0",
          "state": {
            "_model_module": "@jupyter-widgets/base",
            "_model_module_version": "1.2.0",
            "_model_name": "LayoutModel",
            "_view_count": null,
            "_view_module": "@jupyter-widgets/base",
            "_view_module_version": "1.2.0",
            "_view_name": "LayoutView",
            "align_content": null,
            "align_items": null,
            "align_self": null,
            "border": null,
            "bottom": null,
            "display": null,
            "flex": null,
            "flex_flow": null,
            "grid_area": null,
            "grid_auto_columns": null,
            "grid_auto_flow": null,
            "grid_auto_rows": null,
            "grid_column": null,
            "grid_gap": null,
            "grid_row": null,
            "grid_template_areas": null,
            "grid_template_columns": null,
            "grid_template_rows": null,
            "height": null,
            "justify_content": null,
            "justify_items": null,
            "left": null,
            "margin": null,
            "max_height": null,
            "max_width": null,
            "min_height": null,
            "min_width": null,
            "object_fit": null,
            "object_position": null,
            "order": null,
            "overflow": null,
            "overflow_x": null,
            "overflow_y": null,
            "padding": null,
            "right": null,
            "top": null,
            "visibility": null,
            "width": null
          }
        },
        "d557de7d98334de3aff0bf2cfe3f2718": {
          "model_module": "@jupyter-widgets/controls",
          "model_name": "DescriptionStyleModel",
          "model_module_version": "1.5.0",
          "state": {
            "_model_module": "@jupyter-widgets/controls",
            "_model_module_version": "1.5.0",
            "_model_name": "DescriptionStyleModel",
            "_view_count": null,
            "_view_module": "@jupyter-widgets/base",
            "_view_module_version": "1.2.0",
            "_view_name": "StyleView",
            "description_width": ""
          }
        },
        "38caedc1b70a4d67a78c8c8833179133": {
          "model_module": "@jupyter-widgets/controls",
          "model_name": "HBoxModel",
          "model_module_version": "1.5.0",
          "state": {
            "_dom_classes": [],
            "_model_module": "@jupyter-widgets/controls",
            "_model_module_version": "1.5.0",
            "_model_name": "HBoxModel",
            "_view_count": null,
            "_view_module": "@jupyter-widgets/controls",
            "_view_module_version": "1.5.0",
            "_view_name": "HBoxView",
            "box_style": "",
            "children": [
              "IPY_MODEL_789cdddde1c149659feb0eb652650000",
              "IPY_MODEL_e3bf069f7a6c4cbeac2b5c1a845a9196",
              "IPY_MODEL_4c00531cc9f74a7281cf25e98c094ca1"
            ],
            "layout": "IPY_MODEL_253fa2ae092a4fcf8a6702eca9e4195d"
          }
        },
        "789cdddde1c149659feb0eb652650000": {
          "model_module": "@jupyter-widgets/controls",
          "model_name": "HTMLModel",
          "model_module_version": "1.5.0",
          "state": {
            "_dom_classes": [],
            "_model_module": "@jupyter-widgets/controls",
            "_model_module_version": "1.5.0",
            "_model_name": "HTMLModel",
            "_view_count": null,
            "_view_module": "@jupyter-widgets/controls",
            "_view_module_version": "1.5.0",
            "_view_name": "HTMLView",
            "description": "",
            "description_tooltip": null,
            "layout": "IPY_MODEL_ebe17a0ec86a4a009bd6a80dba9077dd",
            "placeholder": "​",
            "style": "IPY_MODEL_eb1ed309eb4b4b728639d4c79912308d",
            "value": "Downloading: 100%"
          }
        },
        "e3bf069f7a6c4cbeac2b5c1a845a9196": {
          "model_module": "@jupyter-widgets/controls",
          "model_name": "FloatProgressModel",
          "model_module_version": "1.5.0",
          "state": {
            "_dom_classes": [],
            "_model_module": "@jupyter-widgets/controls",
            "_model_module_version": "1.5.0",
            "_model_name": "FloatProgressModel",
            "_view_count": null,
            "_view_module": "@jupyter-widgets/controls",
            "_view_module_version": "1.5.0",
            "_view_name": "ProgressView",
            "bar_style": "success",
            "description": "",
            "description_tooltip": null,
            "layout": "IPY_MODEL_b4931afb7f8c4deca5e42fab98663faf",
            "max": 231508,
            "min": 0,
            "orientation": "horizontal",
            "style": "IPY_MODEL_ef8cafb242fa4888b8d57c5453a40d8a",
            "value": 231508
          }
        },
        "4c00531cc9f74a7281cf25e98c094ca1": {
          "model_module": "@jupyter-widgets/controls",
          "model_name": "HTMLModel",
          "model_module_version": "1.5.0",
          "state": {
            "_dom_classes": [],
            "_model_module": "@jupyter-widgets/controls",
            "_model_module_version": "1.5.0",
            "_model_name": "HTMLModel",
            "_view_count": null,
            "_view_module": "@jupyter-widgets/controls",
            "_view_module_version": "1.5.0",
            "_view_name": "HTMLView",
            "description": "",
            "description_tooltip": null,
            "layout": "IPY_MODEL_ab58da85eefa447aac69909209f82d50",
            "placeholder": "​",
            "style": "IPY_MODEL_18799e50521e4b51b105bf283c6f0a7f",
            "value": " 226k/226k [00:00&lt;00:00, 2.65MB/s]"
          }
        },
        "253fa2ae092a4fcf8a6702eca9e4195d": {
          "model_module": "@jupyter-widgets/base",
          "model_name": "LayoutModel",
          "model_module_version": "1.2.0",
          "state": {
            "_model_module": "@jupyter-widgets/base",
            "_model_module_version": "1.2.0",
            "_model_name": "LayoutModel",
            "_view_count": null,
            "_view_module": "@jupyter-widgets/base",
            "_view_module_version": "1.2.0",
            "_view_name": "LayoutView",
            "align_content": null,
            "align_items": null,
            "align_self": null,
            "border": null,
            "bottom": null,
            "display": null,
            "flex": null,
            "flex_flow": null,
            "grid_area": null,
            "grid_auto_columns": null,
            "grid_auto_flow": null,
            "grid_auto_rows": null,
            "grid_column": null,
            "grid_gap": null,
            "grid_row": null,
            "grid_template_areas": null,
            "grid_template_columns": null,
            "grid_template_rows": null,
            "height": null,
            "justify_content": null,
            "justify_items": null,
            "left": null,
            "margin": null,
            "max_height": null,
            "max_width": null,
            "min_height": null,
            "min_width": null,
            "object_fit": null,
            "object_position": null,
            "order": null,
            "overflow": null,
            "overflow_x": null,
            "overflow_y": null,
            "padding": null,
            "right": null,
            "top": null,
            "visibility": null,
            "width": null
          }
        },
        "ebe17a0ec86a4a009bd6a80dba9077dd": {
          "model_module": "@jupyter-widgets/base",
          "model_name": "LayoutModel",
          "model_module_version": "1.2.0",
          "state": {
            "_model_module": "@jupyter-widgets/base",
            "_model_module_version": "1.2.0",
            "_model_name": "LayoutModel",
            "_view_count": null,
            "_view_module": "@jupyter-widgets/base",
            "_view_module_version": "1.2.0",
            "_view_name": "LayoutView",
            "align_content": null,
            "align_items": null,
            "align_self": null,
            "border": null,
            "bottom": null,
            "display": null,
            "flex": null,
            "flex_flow": null,
            "grid_area": null,
            "grid_auto_columns": null,
            "grid_auto_flow": null,
            "grid_auto_rows": null,
            "grid_column": null,
            "grid_gap": null,
            "grid_row": null,
            "grid_template_areas": null,
            "grid_template_columns": null,
            "grid_template_rows": null,
            "height": null,
            "justify_content": null,
            "justify_items": null,
            "left": null,
            "margin": null,
            "max_height": null,
            "max_width": null,
            "min_height": null,
            "min_width": null,
            "object_fit": null,
            "object_position": null,
            "order": null,
            "overflow": null,
            "overflow_x": null,
            "overflow_y": null,
            "padding": null,
            "right": null,
            "top": null,
            "visibility": null,
            "width": null
          }
        },
        "eb1ed309eb4b4b728639d4c79912308d": {
          "model_module": "@jupyter-widgets/controls",
          "model_name": "DescriptionStyleModel",
          "model_module_version": "1.5.0",
          "state": {
            "_model_module": "@jupyter-widgets/controls",
            "_model_module_version": "1.5.0",
            "_model_name": "DescriptionStyleModel",
            "_view_count": null,
            "_view_module": "@jupyter-widgets/base",
            "_view_module_version": "1.2.0",
            "_view_name": "StyleView",
            "description_width": ""
          }
        },
        "b4931afb7f8c4deca5e42fab98663faf": {
          "model_module": "@jupyter-widgets/base",
          "model_name": "LayoutModel",
          "model_module_version": "1.2.0",
          "state": {
            "_model_module": "@jupyter-widgets/base",
            "_model_module_version": "1.2.0",
            "_model_name": "LayoutModel",
            "_view_count": null,
            "_view_module": "@jupyter-widgets/base",
            "_view_module_version": "1.2.0",
            "_view_name": "LayoutView",
            "align_content": null,
            "align_items": null,
            "align_self": null,
            "border": null,
            "bottom": null,
            "display": null,
            "flex": null,
            "flex_flow": null,
            "grid_area": null,
            "grid_auto_columns": null,
            "grid_auto_flow": null,
            "grid_auto_rows": null,
            "grid_column": null,
            "grid_gap": null,
            "grid_row": null,
            "grid_template_areas": null,
            "grid_template_columns": null,
            "grid_template_rows": null,
            "height": null,
            "justify_content": null,
            "justify_items": null,
            "left": null,
            "margin": null,
            "max_height": null,
            "max_width": null,
            "min_height": null,
            "min_width": null,
            "object_fit": null,
            "object_position": null,
            "order": null,
            "overflow": null,
            "overflow_x": null,
            "overflow_y": null,
            "padding": null,
            "right": null,
            "top": null,
            "visibility": null,
            "width": null
          }
        },
        "ef8cafb242fa4888b8d57c5453a40d8a": {
          "model_module": "@jupyter-widgets/controls",
          "model_name": "ProgressStyleModel",
          "model_module_version": "1.5.0",
          "state": {
            "_model_module": "@jupyter-widgets/controls",
            "_model_module_version": "1.5.0",
            "_model_name": "ProgressStyleModel",
            "_view_count": null,
            "_view_module": "@jupyter-widgets/base",
            "_view_module_version": "1.2.0",
            "_view_name": "StyleView",
            "bar_color": null,
            "description_width": ""
          }
        },
        "ab58da85eefa447aac69909209f82d50": {
          "model_module": "@jupyter-widgets/base",
          "model_name": "LayoutModel",
          "model_module_version": "1.2.0",
          "state": {
            "_model_module": "@jupyter-widgets/base",
            "_model_module_version": "1.2.0",
            "_model_name": "LayoutModel",
            "_view_count": null,
            "_view_module": "@jupyter-widgets/base",
            "_view_module_version": "1.2.0",
            "_view_name": "LayoutView",
            "align_content": null,
            "align_items": null,
            "align_self": null,
            "border": null,
            "bottom": null,
            "display": null,
            "flex": null,
            "flex_flow": null,
            "grid_area": null,
            "grid_auto_columns": null,
            "grid_auto_flow": null,
            "grid_auto_rows": null,
            "grid_column": null,
            "grid_gap": null,
            "grid_row": null,
            "grid_template_areas": null,
            "grid_template_columns": null,
            "grid_template_rows": null,
            "height": null,
            "justify_content": null,
            "justify_items": null,
            "left": null,
            "margin": null,
            "max_height": null,
            "max_width": null,
            "min_height": null,
            "min_width": null,
            "object_fit": null,
            "object_position": null,
            "order": null,
            "overflow": null,
            "overflow_x": null,
            "overflow_y": null,
            "padding": null,
            "right": null,
            "top": null,
            "visibility": null,
            "width": null
          }
        },
        "18799e50521e4b51b105bf283c6f0a7f": {
          "model_module": "@jupyter-widgets/controls",
          "model_name": "DescriptionStyleModel",
          "model_module_version": "1.5.0",
          "state": {
            "_model_module": "@jupyter-widgets/controls",
            "_model_module_version": "1.5.0",
            "_model_name": "DescriptionStyleModel",
            "_view_count": null,
            "_view_module": "@jupyter-widgets/base",
            "_view_module_version": "1.2.0",
            "_view_name": "StyleView",
            "description_width": ""
          }
        }
      }
    }
  },
  "nbformat": 4,
  "nbformat_minor": 0
}